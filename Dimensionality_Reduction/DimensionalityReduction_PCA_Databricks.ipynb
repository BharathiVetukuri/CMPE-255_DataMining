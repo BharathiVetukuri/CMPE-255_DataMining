{
 "cells": [
  {
   "cell_type": "markdown",
   "metadata": {
    "application/vnd.databricks.v1+cell": {
     "cellMetadata": {},
     "inputWidgets": {},
     "nuid": "4c2aaa90-3b76-40b6-8b1c-787b60b8cae2",
     "showTitle": false,
     "tableResultSettingsMap": {},
     "title": ""
    }
   },
   "source": [
    "### Install and Import Libraries"
   ]
  },
  {
   "cell_type": "code",
   "execution_count": 0,
   "metadata": {
    "application/vnd.databricks.v1+cell": {
     "cellMetadata": {
      "byteLimit": 2048000,
      "rowLimit": 10000
     },
     "inputWidgets": {},
     "nuid": "086b3ad9-8de5-403d-88f3-abdef4483d70",
     "showTitle": false,
     "tableResultSettingsMap": {},
     "title": ""
    }
   },
   "outputs": [
    {
     "output_type": "display_data",
     "data": {
      "application/vnd.databricks.v1+bamboolib_hint": "{\"pd.DataFrames\": [], \"version\": \"0.0.1\"}",
      "text/plain": []
     },
     "metadata": {},
     "output_type": "display_data"
    }
   ],
   "source": [
    "# Import required libraries\n",
    "import pandas as pd\n",
    "import numpy as np\n",
    "import matplotlib.pyplot as plt\n",
    "from sklearn.decomposition import PCA\n",
    "from sklearn.preprocessing import StandardScaler\n",
    "from sklearn.datasets import load_iris\n",
    "\n",
    "# Enable inline plots\n",
    "%matplotlib inline\n"
   ]
  },
  {
   "cell_type": "markdown",
   "metadata": {
    "application/vnd.databricks.v1+cell": {
     "cellMetadata": {},
     "inputWidgets": {},
     "nuid": "e690d1d6-df26-4935-a8b4-7fe8da077895",
     "showTitle": false,
     "tableResultSettingsMap": {},
     "title": ""
    }
   },
   "source": [
    "### Load Data"
   ]
  },
  {
   "cell_type": "code",
   "execution_count": 0,
   "metadata": {
    "application/vnd.databricks.v1+cell": {
     "cellMetadata": {
      "byteLimit": 2048000,
      "rowLimit": 10000
     },
     "inputWidgets": {},
     "nuid": "ba0a02fa-733c-4f15-ab6a-424b175d4b65",
     "showTitle": false,
     "tableResultSettingsMap": {},
     "title": ""
    }
   },
   "outputs": [
    {
     "output_type": "display_data",
     "data": {
      "text/html": [
       "<div>\n",
       "<style scoped>\n",
       "    .dataframe tbody tr th:only-of-type {\n",
       "        vertical-align: middle;\n",
       "    }\n",
       "\n",
       "    .dataframe tbody tr th {\n",
       "        vertical-align: top;\n",
       "    }\n",
       "\n",
       "    .dataframe thead th {\n",
       "        text-align: right;\n",
       "    }\n",
       "</style>\n",
       "<table border=\"1\" class=\"dataframe\">\n",
       "  <thead>\n",
       "    <tr style=\"text-align: right;\">\n",
       "      <th></th>\n",
       "      <th>sepal length (cm)</th>\n",
       "      <th>sepal width (cm)</th>\n",
       "      <th>petal length (cm)</th>\n",
       "      <th>petal width (cm)</th>\n",
       "    </tr>\n",
       "  </thead>\n",
       "  <tbody>\n",
       "    <tr>\n",
       "      <th>0</th>\n",
       "      <td>5.1</td>\n",
       "      <td>3.5</td>\n",
       "      <td>1.4</td>\n",
       "      <td>0.2</td>\n",
       "    </tr>\n",
       "    <tr>\n",
       "      <th>1</th>\n",
       "      <td>4.9</td>\n",
       "      <td>3.0</td>\n",
       "      <td>1.4</td>\n",
       "      <td>0.2</td>\n",
       "    </tr>\n",
       "    <tr>\n",
       "      <th>2</th>\n",
       "      <td>4.7</td>\n",
       "      <td>3.2</td>\n",
       "      <td>1.3</td>\n",
       "      <td>0.2</td>\n",
       "    </tr>\n",
       "    <tr>\n",
       "      <th>3</th>\n",
       "      <td>4.6</td>\n",
       "      <td>3.1</td>\n",
       "      <td>1.5</td>\n",
       "      <td>0.2</td>\n",
       "    </tr>\n",
       "    <tr>\n",
       "      <th>4</th>\n",
       "      <td>5.0</td>\n",
       "      <td>3.6</td>\n",
       "      <td>1.4</td>\n",
       "      <td>0.2</td>\n",
       "    </tr>\n",
       "  </tbody>\n",
       "</table>\n",
       "</div>"
      ]
     },
     "metadata": {
      "application/vnd.databricks.v1+output": {
       "addedWidgets": {},
       "arguments": {},
       "data": "<div>\n<style scoped>\n    .dataframe tbody tr th:only-of-type {\n        vertical-align: middle;\n    }\n\n    .dataframe tbody tr th {\n        vertical-align: top;\n    }\n\n    .dataframe thead th {\n        text-align: right;\n    }\n</style>\n<table border=\"1\" class=\"dataframe\">\n  <thead>\n    <tr style=\"text-align: right;\">\n      <th></th>\n      <th>sepal length (cm)</th>\n      <th>sepal width (cm)</th>\n      <th>petal length (cm)</th>\n      <th>petal width (cm)</th>\n    </tr>\n  </thead>\n  <tbody>\n    <tr>\n      <th>0</th>\n      <td>5.1</td>\n      <td>3.5</td>\n      <td>1.4</td>\n      <td>0.2</td>\n    </tr>\n    <tr>\n      <th>1</th>\n      <td>4.9</td>\n      <td>3.0</td>\n      <td>1.4</td>\n      <td>0.2</td>\n    </tr>\n    <tr>\n      <th>2</th>\n      <td>4.7</td>\n      <td>3.2</td>\n      <td>1.3</td>\n      <td>0.2</td>\n    </tr>\n    <tr>\n      <th>3</th>\n      <td>4.6</td>\n      <td>3.1</td>\n      <td>1.5</td>\n      <td>0.2</td>\n    </tr>\n    <tr>\n      <th>4</th>\n      <td>5.0</td>\n      <td>3.6</td>\n      <td>1.4</td>\n      <td>0.2</td>\n    </tr>\n  </tbody>\n</table>\n</div>",
       "datasetInfos": [],
       "metadata": {},
       "removedWidgets": [],
       "textData": null,
       "type": "htmlSandbox"
      }
     },
     "output_type": "display_data"
    }
   ],
   "source": [
    "# Load the Iris dataset\n",
    "iris = load_iris()\n",
    "data = pd.DataFrame(iris.data, columns=iris.feature_names)\n",
    "\n",
    "# Display the first few rows of the dataset\n",
    "data.head()\n"
   ]
  },
  {
   "cell_type": "markdown",
   "metadata": {
    "application/vnd.databricks.v1+cell": {
     "cellMetadata": {},
     "inputWidgets": {},
     "nuid": "57d11e53-a9fc-4fcf-b81d-38eb588f55fc",
     "showTitle": false,
     "tableResultSettingsMap": {},
     "title": ""
    }
   },
   "source": [
    "### Prepare Data"
   ]
  },
  {
   "cell_type": "code",
   "execution_count": 0,
   "metadata": {
    "application/vnd.databricks.v1+cell": {
     "cellMetadata": {
      "byteLimit": 2048000,
      "rowLimit": 10000
     },
     "inputWidgets": {},
     "nuid": "bfe85ec8-3540-4052-8edf-345f1a8576b5",
     "showTitle": false,
     "tableResultSettingsMap": {},
     "title": ""
    }
   },
   "outputs": [
    {
     "output_type": "display_data",
     "data": {
      "text/html": [
       "<div>\n",
       "<style scoped>\n",
       "    .dataframe tbody tr th:only-of-type {\n",
       "        vertical-align: middle;\n",
       "    }\n",
       "\n",
       "    .dataframe tbody tr th {\n",
       "        vertical-align: top;\n",
       "    }\n",
       "\n",
       "    .dataframe thead th {\n",
       "        text-align: right;\n",
       "    }\n",
       "</style>\n",
       "<table border=\"1\" class=\"dataframe\">\n",
       "  <thead>\n",
       "    <tr style=\"text-align: right;\">\n",
       "      <th></th>\n",
       "      <th>sepal length (cm)</th>\n",
       "      <th>sepal width (cm)</th>\n",
       "      <th>petal length (cm)</th>\n",
       "      <th>petal width (cm)</th>\n",
       "    </tr>\n",
       "  </thead>\n",
       "  <tbody>\n",
       "    <tr>\n",
       "      <th>0</th>\n",
       "      <td>-0.900681</td>\n",
       "      <td>1.019004</td>\n",
       "      <td>-1.340227</td>\n",
       "      <td>-1.315444</td>\n",
       "    </tr>\n",
       "    <tr>\n",
       "      <th>1</th>\n",
       "      <td>-1.143017</td>\n",
       "      <td>-0.131979</td>\n",
       "      <td>-1.340227</td>\n",
       "      <td>-1.315444</td>\n",
       "    </tr>\n",
       "    <tr>\n",
       "      <th>2</th>\n",
       "      <td>-1.385353</td>\n",
       "      <td>0.328414</td>\n",
       "      <td>-1.397064</td>\n",
       "      <td>-1.315444</td>\n",
       "    </tr>\n",
       "    <tr>\n",
       "      <th>3</th>\n",
       "      <td>-1.506521</td>\n",
       "      <td>0.098217</td>\n",
       "      <td>-1.283389</td>\n",
       "      <td>-1.315444</td>\n",
       "    </tr>\n",
       "    <tr>\n",
       "      <th>4</th>\n",
       "      <td>-1.021849</td>\n",
       "      <td>1.249201</td>\n",
       "      <td>-1.340227</td>\n",
       "      <td>-1.315444</td>\n",
       "    </tr>\n",
       "  </tbody>\n",
       "</table>\n",
       "</div>"
      ]
     },
     "metadata": {
      "application/vnd.databricks.v1+output": {
       "addedWidgets": {},
       "arguments": {},
       "data": "<div>\n<style scoped>\n    .dataframe tbody tr th:only-of-type {\n        vertical-align: middle;\n    }\n\n    .dataframe tbody tr th {\n        vertical-align: top;\n    }\n\n    .dataframe thead th {\n        text-align: right;\n    }\n</style>\n<table border=\"1\" class=\"dataframe\">\n  <thead>\n    <tr style=\"text-align: right;\">\n      <th></th>\n      <th>sepal length (cm)</th>\n      <th>sepal width (cm)</th>\n      <th>petal length (cm)</th>\n      <th>petal width (cm)</th>\n    </tr>\n  </thead>\n  <tbody>\n    <tr>\n      <th>0</th>\n      <td>-0.900681</td>\n      <td>1.019004</td>\n      <td>-1.340227</td>\n      <td>-1.315444</td>\n    </tr>\n    <tr>\n      <th>1</th>\n      <td>-1.143017</td>\n      <td>-0.131979</td>\n      <td>-1.340227</td>\n      <td>-1.315444</td>\n    </tr>\n    <tr>\n      <th>2</th>\n      <td>-1.385353</td>\n      <td>0.328414</td>\n      <td>-1.397064</td>\n      <td>-1.315444</td>\n    </tr>\n    <tr>\n      <th>3</th>\n      <td>-1.506521</td>\n      <td>0.098217</td>\n      <td>-1.283389</td>\n      <td>-1.315444</td>\n    </tr>\n    <tr>\n      <th>4</th>\n      <td>-1.021849</td>\n      <td>1.249201</td>\n      <td>-1.340227</td>\n      <td>-1.315444</td>\n    </tr>\n  </tbody>\n</table>\n</div>",
       "datasetInfos": [],
       "metadata": {},
       "removedWidgets": [],
       "textData": null,
       "type": "htmlSandbox"
      }
     },
     "output_type": "display_data"
    }
   ],
   "source": [
    "# Standardize the dataset\n",
    "scaler = StandardScaler()\n",
    "data_scaled = scaler.fit_transform(data)\n",
    "\n",
    "# Convert standardized data to a DataFrame for convenience\n",
    "data_scaled_df = pd.DataFrame(data_scaled, columns=data.columns)\n",
    "data_scaled_df.head()\n"
   ]
  },
  {
   "cell_type": "markdown",
   "metadata": {
    "application/vnd.databricks.v1+cell": {
     "cellMetadata": {},
     "inputWidgets": {},
     "nuid": "6918d5aa-28fc-4da9-b390-a008d22072cd",
     "showTitle": false,
     "tableResultSettingsMap": {},
     "title": ""
    }
   },
   "source": [
    "# Dimensionality Reduction - PCA"
   ]
  },
  {
   "cell_type": "code",
   "execution_count": 0,
   "metadata": {
    "application/vnd.databricks.v1+cell": {
     "cellMetadata": {
      "byteLimit": 2048000,
      "rowLimit": 10000
     },
     "inputWidgets": {},
     "nuid": "8e9c00a0-9adc-4b23-a98e-1a36197ce789",
     "showTitle": false,
     "tableResultSettingsMap": {},
     "title": ""
    }
   },
   "outputs": [
    {
     "output_type": "stream",
     "name": "stdout",
     "output_type": "stream",
     "text": [
      "Explained Variance Ratio: [0.72962445 0.22850762]\n"
     ]
    },
    {
     "output_type": "display_data",
     "data": {
      "text/html": [
       "<div>\n",
       "<style scoped>\n",
       "    .dataframe tbody tr th:only-of-type {\n",
       "        vertical-align: middle;\n",
       "    }\n",
       "\n",
       "    .dataframe tbody tr th {\n",
       "        vertical-align: top;\n",
       "    }\n",
       "\n",
       "    .dataframe thead th {\n",
       "        text-align: right;\n",
       "    }\n",
       "</style>\n",
       "<table border=\"1\" class=\"dataframe\">\n",
       "  <thead>\n",
       "    <tr style=\"text-align: right;\">\n",
       "      <th></th>\n",
       "      <th>Principal Component 1</th>\n",
       "      <th>Principal Component 2</th>\n",
       "    </tr>\n",
       "  </thead>\n",
       "  <tbody>\n",
       "    <tr>\n",
       "      <th>0</th>\n",
       "      <td>-2.264703</td>\n",
       "      <td>0.480027</td>\n",
       "    </tr>\n",
       "    <tr>\n",
       "      <th>1</th>\n",
       "      <td>-2.080961</td>\n",
       "      <td>-0.674134</td>\n",
       "    </tr>\n",
       "    <tr>\n",
       "      <th>2</th>\n",
       "      <td>-2.364229</td>\n",
       "      <td>-0.341908</td>\n",
       "    </tr>\n",
       "    <tr>\n",
       "      <th>3</th>\n",
       "      <td>-2.299384</td>\n",
       "      <td>-0.597395</td>\n",
       "    </tr>\n",
       "    <tr>\n",
       "      <th>4</th>\n",
       "      <td>-2.389842</td>\n",
       "      <td>0.646835</td>\n",
       "    </tr>\n",
       "  </tbody>\n",
       "</table>\n",
       "</div>"
      ]
     },
     "metadata": {
      "application/vnd.databricks.v1+output": {
       "addedWidgets": {},
       "arguments": {},
       "data": "<div>\n<style scoped>\n    .dataframe tbody tr th:only-of-type {\n        vertical-align: middle;\n    }\n\n    .dataframe tbody tr th {\n        vertical-align: top;\n    }\n\n    .dataframe thead th {\n        text-align: right;\n    }\n</style>\n<table border=\"1\" class=\"dataframe\">\n  <thead>\n    <tr style=\"text-align: right;\">\n      <th></th>\n      <th>Principal Component 1</th>\n      <th>Principal Component 2</th>\n    </tr>\n  </thead>\n  <tbody>\n    <tr>\n      <th>0</th>\n      <td>-2.264703</td>\n      <td>0.480027</td>\n    </tr>\n    <tr>\n      <th>1</th>\n      <td>-2.080961</td>\n      <td>-0.674134</td>\n    </tr>\n    <tr>\n      <th>2</th>\n      <td>-2.364229</td>\n      <td>-0.341908</td>\n    </tr>\n    <tr>\n      <th>3</th>\n      <td>-2.299384</td>\n      <td>-0.597395</td>\n    </tr>\n    <tr>\n      <th>4</th>\n      <td>-2.389842</td>\n      <td>0.646835</td>\n    </tr>\n  </tbody>\n</table>\n</div>",
       "datasetInfos": [],
       "metadata": {},
       "removedWidgets": [],
       "textData": null,
       "type": "htmlSandbox"
      }
     },
     "output_type": "display_data"
    }
   ],
   "source": [
    "# Apply PCA to reduce to 2 dimensions\n",
    "pca = PCA(n_components=2)\n",
    "data_pca = pca.fit_transform(data_scaled)\n",
    "\n",
    "# Convert PCA results to a DataFrame\n",
    "data_pca_df = pd.DataFrame(data_pca, columns=['Principal Component 1', 'Principal Component 2'])\n",
    "\n",
    "# Display the explained variance ratio\n",
    "print(\"Explained Variance Ratio:\", pca.explained_variance_ratio_)\n",
    "data_pca_df.head()\n"
   ]
  },
  {
   "cell_type": "code",
   "execution_count": 0,
   "metadata": {
    "application/vnd.databricks.v1+cell": {
     "cellMetadata": {
      "byteLimit": 2048000,
      "rowLimit": 10000
     },
     "inputWidgets": {},
     "nuid": "26c75600-6775-46d5-9792-074b8e13aeb5",
     "showTitle": false,
     "tableResultSettingsMap": {},
     "title": ""
    }
   },
   "outputs": [
    {
     "output_type": "display_data",
     "data": {
      "image/png": "[encoded data removed]"
     },
     "metadata": {
      "application/vnd.databricks.v1+output": {
       "addedWidgets": {},
       "arguments": {},
       "data": "data:image/png;base64,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\n",
       "datasetInfos": [],
       "metadata": {},
       "removedWidgets": [],
       "type": "image"
      }
     },
     "output_type": "display_data"
    }
   ],
   "source": [
    "# Add the target variable for coloring\n",
    "data_pca_df['Target'] = iris.target\n",
    "\n",
    "# Plot the PCA results\n",
    "plt.figure(figsize=(8, 6))\n",
    "for target in np.unique(iris.target):\n",
    "    subset = data_pca_df[data_pca_df['Target'] == target]\n",
    "    plt.scatter(subset['Principal Component 1'], subset['Principal Component 2'], label=iris.target_names[target])\n",
    "    \n",
    "plt.title('PCA on Iris Dataset')\n",
    "plt.xlabel('Principal Component 1')\n",
    "plt.ylabel('Principal Component 2')\n",
    "plt.legend()\n",
    "plt.show()\n"
   ]
  },
  {
   "cell_type": "code",
   "execution_count": 0,
   "metadata": {
    "application/vnd.databricks.v1+cell": {
     "cellMetadata": {
      "byteLimit": 2048000,
      "rowLimit": 10000
     },
     "inputWidgets": {},
     "nuid": "96750670-8faa-40e5-a7d2-534006a0bc5c",
     "showTitle": false,
     "tableResultSettingsMap": {},
     "title": ""
    }
   },
   "outputs": [
    {
     "output_type": "display_data",
     "data": {
      "image/png": "[encoded data removed]"
     },
     "metadata": {
      "application/vnd.databricks.v1+output": {
       "addedWidgets": {},
       "arguments": {},
       "data": "data:image/png;base64,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\n",
       "datasetInfos": [],
       "metadata": {},
       "removedWidgets": [],
       "type": "image"
      }
     },
     "output_type": "display_data"
    }
   ],
   "source": [
    "# Plot cumulative explained variance\n",
    "plt.figure(figsize=(8, 6))\n",
    "plt.plot(np.cumsum(pca.explained_variance_ratio_), marker='o', linestyle='--')\n",
    "plt.title('Explained Variance by Principal Components')\n",
    "plt.xlabel('Number of Components')\n",
    "plt.ylabel('Cumulative Explained Variance')\n",
    "plt.grid()\n",
    "plt.show()\n"
   ]
  },
  {
   "cell_type": "code",
   "execution_count": 0,
   "metadata": {
    "application/vnd.databricks.v1+cell": {
     "cellMetadata": {
      "byteLimit": 2048000,
      "rowLimit": 10000
     },
     "inputWidgets": {},
     "nuid": "123971cc-11cb-446a-8475-fe9fb0008067",
     "showTitle": false,
     "tableResultSettingsMap": {},
     "title": ""
    }
   },
   "outputs": [
    {
     "output_type": "stream",
     "name": "stdout",
     "output_type": "stream",
     "text": [
      "Cleaned column names: Index(['Principal_Component_1', 'Principal_Component_2', 'Target'], dtype='object')\n"
     ]
    }
   ],
   "source": [
    "# Clean column names in Pandas DataFrame\n",
    "data_pca_df.columns = [col.replace(\" \", \"_\").replace(\"(\", \"\").replace(\")\", \"\").replace(\"-\", \"_\") for col in data_pca_df.columns]\n",
    "\n",
    "# Display cleaned column names\n",
    "print(\"Cleaned column names:\", data_pca_df.columns)\n"
   ]
  },
  {
   "cell_type": "code",
   "execution_count": 0,
   "metadata": {
    "application/vnd.databricks.v1+cell": {
     "cellMetadata": {
      "byteLimit": 2048000,
      "rowLimit": 10000
     },
     "inputWidgets": {},
     "nuid": "ef5efe54-6200-4520-ac21-32007bf65b25",
     "showTitle": false,
     "tableResultSettingsMap": {},
     "title": ""
    }
   },
   "outputs": [
    {
     "output_type": "stream",
     "name": "stdout",
     "output_type": "stream",
     "text": [
      "PCA results saved to Delta table: iris_pca_results\n"
     ]
    }
   ],
   "source": [
    "# Convert the cleaned Pandas DataFrame to a PySpark DataFrame\n",
    "data_pca_spark = spark.createDataFrame(data_pca_df)\n",
    "\n",
    "# Save the PySpark DataFrame to a Delta table\n",
    "pca_table_name = \"iris_pca_results\"\n",
    "data_pca_spark.write.format(\"delta\").mode(\"overwrite\").saveAsTable(pca_table_name)\n",
    "\n",
    "print(f\"PCA results saved to Delta table: {pca_table_name}\")"
   ]
  },
  {
   "cell_type": "code",
   "execution_count": 0,
   "metadata": {
    "application/vnd.databricks.v1+cell": {
     "cellMetadata": {
      "byteLimit": 2048000,
      "rowLimit": 10000
     },
     "inputWidgets": {},
     "nuid": "81f3683f-9cd2-4ed7-8365-8651f86abe18",
     "showTitle": false,
     "tableResultSettingsMap": {},
     "title": ""
    }
   },
   "outputs": [
    {
     "output_type": "stream",
     "name": "stdout",
     "output_type": "stream",
     "text": [
      "+---------------------+---------------------+------+\n|Principal_Component_1|Principal_Component_2|Target|\n+---------------------+---------------------+------+\n|  -2.2647028088075967|  0.48002659652098845|     0|\n|  -2.0809611519657687|  -0.6741335566053533|     0|\n|   -2.364229053890301| -0.34190802388467606|     0|\n|  -2.2993842170427095|  -0.5973945076746758|     0|\n|  -2.3898421663138456|   0.6468353829020274|     0|\n|  -2.0756309481765123|   1.4891775233211668|     0|\n|   -2.444028835134154|  0.04764419763001429|     0|\n|   -2.232847158872016|  0.22314807268959178|     0|\n|   -2.334640477907622|  -1.1153276754616666|     0|\n|  -2.1843281749339427|  -0.4690135614023758|     0|\n|  -2.1663101007013226|   1.0436906530538599|     0|\n|  -2.3261308664426994|  0.13307833523923163|     0|\n|    -2.21845089882241|  -0.7286761653165709|     0|\n|   -2.633100695765229|  -0.9615067291701631|     0|\n|    -2.19874060326669|   1.8600571132939314|     0|\n|   -2.262214531601021|   2.6862844851105923|     0|\n|   -2.207587695824593|   1.4836093631555727|     0|\n|   -2.190349509192299|   0.4888383164863276|     0|\n|   -1.898571995802842|   1.4050187944665495|     0|\n|   -2.343369053074994|   1.1278493819084767|     0|\n+---------------------+---------------------+------+\nonly showing top 20 rows\n\n"
     ]
    }
   ],
   "source": [
    "# Query the saved Delta table\n",
    "pca_results = spark.table(\"iris_pca_results\")\n",
    "pca_results.show()"
   ]
  }
 ],
 "metadata": {
  "application/vnd.databricks.v1+notebook": {
   "dashboards": [],
   "environmentMetadata": null,
   "language": "python",
   "notebookMetadata": {
    "pythonIndentUnit": 4
   },
   "notebookName": "DimensionalityReduction_PCA_Databricks",
   "widgets": {}
  }
 },
 "nbformat": 4,
 "nbformat_minor": 0
}
