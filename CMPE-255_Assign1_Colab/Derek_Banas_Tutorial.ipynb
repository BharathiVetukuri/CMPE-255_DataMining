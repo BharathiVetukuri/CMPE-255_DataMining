{
  "nbformat": 4,
  "nbformat_minor": 0,
  "metadata": {
    "colab": {
      "provenance": []
    },
    "kernelspec": {
      "name": "python3",
      "display_name": "Python 3"
    },
    "language_info": {
      "name": "python"
    }
  },
  "cells": [
    {
      "cell_type": "markdown",
      "source": [
        "# Variables"
      ],
      "metadata": {
        "id": "LbrgsQdfxTJ6"
      }
    },
    {
      "cell_type": "code",
      "execution_count": null,
      "metadata": {
        "colab": {
          "base_uri": "https://localhost:8080/"
        },
        "id": "T45FPEJSw4Uu",
        "outputId": "87951680-9e87-4bc7-c51c-754d2e202656"
      },
      "outputs": [
        {
          "output_type": "stream",
          "name": "stdout",
          "text": [
            "Hellooo Worlddd..!!\n",
            "hiSoumya\n"
          ]
        }
      ],
      "source": [
        "import random\n",
        "import sys\n",
        "import os\n",
        "\n",
        "#Comment1\n",
        "'''Multiline Comment\n",
        "'''\n",
        "\n",
        "print(\"Hellooo Worlddd..!!\")\n",
        "\n",
        "name = 'Soumya'\n",
        "print(\"hi\" + name)\n"
      ]
    },
    {
      "cell_type": "markdown",
      "source": [
        "# Arithmetic Operations"
      ],
      "metadata": {
        "id": "FLcwya-pzMcX"
      }
    },
    {
      "cell_type": "code",
      "source": [
        "import random\n",
        "\n",
        "print(\"1+1=\", 1+1)\n",
        "print(\"1-1=\", 1-1)\n",
        "print(\"5*4=\", 5*4)\n",
        "print(\"5/2=\", 5/2)\n",
        "print(\"5%4=\", 5%4)\n",
        "print(\"5**2=\", 5**2)\n",
        "print(\"5//2=\", 5//2)\n",
        "\n",
        "# Order of Operation matters : * and / are done before + or -\n",
        "\n",
        "print(\"1+2-5*4=\", 1+2-5*4)\n",
        "print(\"(1+2-5)*4=\", (1+2-5)*4)"
      ],
      "metadata": {
        "colab": {
          "base_uri": "https://localhost:8080/"
        },
        "id": "wzYRVDMUzJJc",
        "outputId": "23c9d52c-7e63-47cd-f9ab-23426bc2fbef"
      },
      "execution_count": null,
      "outputs": [
        {
          "output_type": "stream",
          "name": "stdout",
          "text": [
            "1+1= 2\n",
            "1-1= 0\n",
            "5*4= 20\n",
            "5/2= 2.5\n",
            "5%4= 1\n",
            "5**2= 25\n",
            "5//2= 2\n",
            "1+2-5*4= -17\n",
            "(1+2-5)*4= -8\n"
          ]
        }
      ]
    },
    {
      "cell_type": "markdown",
      "source": [
        "# Quotations"
      ],
      "metadata": {
        "id": "5LLfTAga1iGL"
      }
    },
    {
      "cell_type": "code",
      "source": [
        "import random\n",
        "quote = \"\\\"An apple a day keeps a doctor away\"\n",
        "\n",
        "multi_line_quote = '''Hi!..\n",
        "I am doing good..\n",
        "How are you ? '''\n",
        "\n",
        "new_string = quote+multi_line_quote\n",
        "\n",
        "print(quote)\n",
        "print(multi_line_quote)\n",
        "print(new_string)\n",
        "\n",
        "print('\\n'*2)\n",
        "\n",
        "print(\"%s %s %s\"%('I like the quote',quote,multi_line_quote))"
      ],
      "metadata": {
        "colab": {
          "base_uri": "https://localhost:8080/"
        },
        "id": "Xk8wxox-1kPW",
        "outputId": "c6fac827-480a-4584-abc4-24bbd766b113"
      },
      "execution_count": null,
      "outputs": [
        {
          "output_type": "stream",
          "name": "stdout",
          "text": [
            "\"An apple a day keeps a doctor away\n",
            "Hi!..\n",
            "I am doing good..\n",
            "How are you ? \n",
            "\"An apple a day keeps a doctor awayHi!..\n",
            "I am doing good..\n",
            "How are you ? \n",
            "\n",
            "\n",
            "\n",
            "I like the quote \"An apple a day keeps a doctor away Hi!..\n",
            "I am doing good..\n",
            "How are you ? \n"
          ]
        }
      ]
    },
    {
      "cell_type": "markdown",
      "source": [
        "# Lists"
      ],
      "metadata": {
        "id": "aDltj90TGAfe"
      }
    },
    {
      "cell_type": "code",
      "source": [
        "import random\n",
        "import sys\n",
        "import os\n",
        "\n",
        "grocery_list = ['Chocolates','Pastry','Fruits']\n",
        "print('My Favorite Item is:', grocery_list[1])\n",
        "\n",
        "grocery_list[0] = 'Coconut'\n",
        "grocery_list[1] = 'Chocolate Pastry'\n",
        "print('My Favorite Item is:', grocery_list[1])\n",
        "\n",
        "grocery_list = ['Chocolates','Pastry','Fruits','Carrot','Celery']\n",
        "print(grocery_list[2:4])\n",
        "\n",
        "chores = ['dishwash','carwash','cook']\n",
        "to_do_list = [chores,grocery_list]\n",
        "print(to_do_list)\n",
        "print(to_do_list[1][1]) #index of list(chores=0 grocery_list =1), item in that list\n",
        "\n",
        "grocery_list.append('Lettuce')\n",
        "print(to_do_list)\n",
        "\n",
        "grocery_list.insert(0,'Onion')\n",
        "print(to_do_list)\n",
        "grocery_list.remove('Onion')\n",
        "print(to_do_list)\n",
        "grocery_list.sort\n",
        "print(to_do_list)\n",
        "grocery_list.reverse\n",
        "print(to_do_list)\n",
        "\n",
        "del grocery_list[4]\n",
        "print(to_do_list)\n",
        "\n",
        "to_do_list2 = chores + grocery_list\n",
        "print(len(to_do_list2))\n",
        "print(max(to_do_list2))\n",
        "print(min(to_do_list2))"
      ],
      "metadata": {
        "colab": {
          "base_uri": "https://localhost:8080/"
        },
        "id": "QREoa7cbGDAF",
        "outputId": "1434ef05-0f45-43b1-d776-9b4e95b8b64a"
      },
      "execution_count": null,
      "outputs": [
        {
          "output_type": "stream",
          "name": "stdout",
          "text": [
            "My Favorite Item is: Pastry\n",
            "My Favorite Item is: Chocolate Pastry\n",
            "['Fruits', 'Carrot']\n",
            "[['dishwash', 'carwash', 'cook'], ['Chocolates', 'Pastry', 'Fruits', 'Carrot', 'Celery']]\n",
            "Pastry\n",
            "[['dishwash', 'carwash', 'cook'], ['Chocolates', 'Pastry', 'Fruits', 'Carrot', 'Celery', 'Lettuce']]\n",
            "[['dishwash', 'carwash', 'cook'], ['Onion', 'Chocolates', 'Pastry', 'Fruits', 'Carrot', 'Celery', 'Lettuce']]\n",
            "[['dishwash', 'carwash', 'cook'], ['Chocolates', 'Pastry', 'Fruits', 'Carrot', 'Celery', 'Lettuce']]\n",
            "[['dishwash', 'carwash', 'cook'], ['Chocolates', 'Pastry', 'Fruits', 'Carrot', 'Celery', 'Lettuce']]\n",
            "[['dishwash', 'carwash', 'cook'], ['Chocolates', 'Pastry', 'Fruits', 'Carrot', 'Celery', 'Lettuce']]\n",
            "[['dishwash', 'carwash', 'cook'], ['Chocolates', 'Pastry', 'Fruits', 'Carrot', 'Lettuce']]\n",
            "8\n",
            "dishwash\n",
            "Carrot\n"
          ]
        }
      ]
    },
    {
      "cell_type": "markdown",
      "source": [
        "# Tuples\n",
        "\n",
        "Cant changes values once created. To change, convert to lists"
      ],
      "metadata": {
        "id": "x2fkP61EK4pr"
      }
    },
    {
      "cell_type": "code",
      "source": [
        "import random\n",
        "import os\n",
        "import sys\n",
        "\n",
        "pi_tuple = (3,1,4,1,5,9)\n",
        "new_tuple = list(pi_tuple)\n",
        "new_list = tuple(pi_tuple)\n",
        "\n",
        "print(min(new_list))\n",
        "print(max(new_list))\n",
        "\n"
      ],
      "metadata": {
        "colab": {
          "base_uri": "https://localhost:8080/"
        },
        "id": "12-wyEx5K7Rd",
        "outputId": "a59b8d38-5d46-4349-f91b-a9ffd3956145"
      },
      "execution_count": null,
      "outputs": [
        {
          "output_type": "stream",
          "name": "stdout",
          "text": [
            "1\n",
            "9\n"
          ]
        }
      ]
    },
    {
      "cell_type": "markdown",
      "source": [
        "# Dictonaries"
      ],
      "metadata": {
        "id": "Rcn1V7IrMXMF"
      }
    },
    {
      "cell_type": "code",
      "source": [
        "import random\n",
        "import os\n",
        "import sys\n",
        "\n",
        "student = {'name' : 'Soumya', 'subject' : 'Mathematics', 'Marks' : '100'}\n",
        "print(student)\n",
        "print(student['Marks'])\n",
        "\n",
        "del student['subject']\n",
        "print(student)\n",
        "print(len(student))\n",
        "print(student.get('name'))\n",
        "print(student.keys())\n",
        "print(student.values())"
      ],
      "metadata": {
        "colab": {
          "base_uri": "https://localhost:8080/"
        },
        "id": "pQrH0pHnMaoB",
        "outputId": "f6e71c97-6a42-48de-c2c8-8633b3fd5fe2"
      },
      "execution_count": null,
      "outputs": [
        {
          "output_type": "stream",
          "name": "stdout",
          "text": [
            "{'name': 'Soumya', 'subject': 'Mathematics', 'Marks': '100'}\n",
            "100\n",
            "{'name': 'Soumya', 'Marks': '100'}\n",
            "2\n",
            "Soumya\n",
            "dict_keys(['name', 'Marks'])\n",
            "dict_values(['Soumya', '100'])\n"
          ]
        }
      ]
    },
    {
      "cell_type": "markdown",
      "source": [
        "# Conditionals"
      ],
      "metadata": {
        "id": "6ADxi8c2Ocx5"
      }
    },
    {
      "cell_type": "code",
      "source": [
        "import random\n",
        "import os\n",
        "import sys\n",
        "\n",
        "age = 30\n",
        "\n",
        "if age>16:\n",
        "  print('You are old enough to drive')\n",
        "else:\n",
        "  print('You are not old enough to drive')\n",
        "\n",
        "if age>=21:\n",
        "  print('You are old enough to drive a heavy vehicle')\n",
        "elif age>=16:\n",
        "  print('You are old enough to drive a car')\n",
        "else:\n",
        "  print('You are not old enough to drive')\n",
        "\n",
        "if ((age>=1) and (age<=18)):\n",
        "  print('You get a birthday')\n",
        "elif ((age==21)or(age>=65)):\n",
        "  print('You get a birthday')\n",
        "elif not(age==30):\n",
        "  print('You dont get a birthday')\n",
        "else:\n",
        "  print('You get a birthday party yaayyy')\n",
        "\n"
      ],
      "metadata": {
        "colab": {
          "base_uri": "https://localhost:8080/"
        },
        "id": "CTHBIsB2Ofef",
        "outputId": "fbb0e233-62d5-4398-e1bd-87f104f3ec31"
      },
      "execution_count": null,
      "outputs": [
        {
          "output_type": "stream",
          "name": "stdout",
          "text": [
            "You are old enough to drive\n",
            "You are old enough to drive a heavy vehicle\n",
            "You get a birthday party yaayyy\n"
          ]
        }
      ]
    },
    {
      "cell_type": "markdown",
      "source": [
        "# Loops"
      ],
      "metadata": {
        "id": "uhm_K6VeS7Gg"
      }
    },
    {
      "cell_type": "code",
      "source": [
        "import random\n",
        "import os\n",
        "import sys\n",
        "\n",
        "for x in range(0,10):\n",
        "  print(x, '',end=\"\")\n",
        "\n",
        "  print(\"\\n\")\n",
        "\n",
        "grocery_list = [\"Onion\",\"Celery\",\"Cocnut\",\"Apple\"]\n",
        "for y in grocery_list:\n",
        "    print(y)\n",
        "\n",
        "for x in [2,4,6,8,10]:\n",
        "  print(x)\n",
        "\n",
        "num_list = [[1,2,3],[10,20,30],[100,200,300]]\n",
        "for x in range(0,3):\n",
        "  for y in range(0,3):\n",
        "    print(num_list[x][y])\n",
        "\n"
      ],
      "metadata": {
        "colab": {
          "base_uri": "https://localhost:8080/"
        },
        "id": "0hlfxXH2S9bb",
        "outputId": "15f6dc2a-ca4e-4e0c-f95c-45cbb52750e6"
      },
      "execution_count": null,
      "outputs": [
        {
          "output_type": "stream",
          "name": "stdout",
          "text": [
            "0 \n",
            "\n",
            "1 \n",
            "\n",
            "2 \n",
            "\n",
            "3 \n",
            "\n",
            "4 \n",
            "\n",
            "5 \n",
            "\n",
            "6 \n",
            "\n",
            "7 \n",
            "\n",
            "8 \n",
            "\n",
            "9 \n",
            "\n",
            "Onion\n",
            "Celery\n",
            "Cocnut\n",
            "Apple\n",
            "2\n",
            "4\n",
            "6\n",
            "8\n",
            "10\n",
            "1\n",
            "2\n",
            "3\n",
            "10\n",
            "20\n",
            "30\n",
            "100\n",
            "200\n",
            "300\n"
          ]
        }
      ]
    },
    {
      "cell_type": "code",
      "source": [
        "import random\n",
        "import os\n",
        "import sys\n",
        "\n",
        "random_num = random.randrange(0,100)\n",
        "\n",
        "while(random_num != 15):\n",
        "  print(random_num)\n",
        "  random_num = random.randrange(0,100)\n",
        "\n",
        "i=0;\n",
        "\n",
        "while(i<=20):\n",
        "  if(i%2==0):\n",
        "    print(i)\n",
        "  elif(i==9):\n",
        "    break\n",
        "  else:\n",
        "    i = i+1\n",
        "    continue\n",
        "\n",
        "  i+=1\n"
      ],
      "metadata": {
        "colab": {
          "base_uri": "https://localhost:8080/"
        },
        "id": "ylkK0l7xXMcY",
        "outputId": "d72c60e0-1705-48a5-e848-1ae7bc7765a6"
      },
      "execution_count": null,
      "outputs": [
        {
          "output_type": "stream",
          "name": "stdout",
          "text": [
            "72\n",
            "47\n",
            "67\n",
            "25\n",
            "9\n",
            "46\n",
            "99\n",
            "89\n",
            "76\n",
            "34\n",
            "58\n",
            "55\n",
            "55\n",
            "24\n",
            "84\n",
            "21\n",
            "11\n",
            "43\n",
            "82\n",
            "4\n",
            "96\n",
            "81\n",
            "81\n",
            "19\n",
            "11\n",
            "72\n",
            "71\n",
            "98\n",
            "76\n",
            "42\n",
            "66\n",
            "0\n",
            "42\n",
            "95\n",
            "26\n",
            "60\n",
            "48\n",
            "82\n",
            "22\n",
            "66\n",
            "16\n",
            "50\n",
            "35\n",
            "93\n",
            "14\n",
            "0\n",
            "2\n",
            "4\n",
            "6\n",
            "8\n"
          ]
        }
      ]
    },
    {
      "cell_type": "markdown",
      "source": [
        "# Functions"
      ],
      "metadata": {
        "id": "AZ5Tp2ENZaSq"
      }
    },
    {
      "cell_type": "code",
      "source": [
        "import random\n",
        "import os\n",
        "import sys\n",
        "\n",
        "def addNumber(fNum, lNum):\n",
        "  sumNum = fNum+lNum\n",
        "  return sumNum\n",
        "\n",
        "string = addNumber(1,9)\n",
        "\n",
        "print(string)\n"
      ],
      "metadata": {
        "colab": {
          "base_uri": "https://localhost:8080/"
        },
        "id": "nID8o83dZchr",
        "outputId": "8342080d-75f9-45e6-9a16-6c899720fefc"
      },
      "execution_count": null,
      "outputs": [
        {
          "output_type": "stream",
          "name": "stdout",
          "text": [
            "10\n"
          ]
        }
      ]
    },
    {
      "cell_type": "markdown",
      "source": [
        "# Input From User"
      ],
      "metadata": {
        "id": "iAhc81qFaYYU"
      }
    },
    {
      "cell_type": "code",
      "source": [
        "import random\n",
        "import os\n",
        "import sys\n",
        "\n",
        "print('What is your favorite movie?')\n",
        "\n",
        "movie = sys.stdin.readline()\n",
        "\n",
        "#print('Hello', movie)\n",
        "\n",
        "long_string = \"i am good at playing Badminton\"\n",
        "\n",
        "print(long_string[0:4])\n",
        "print(long_string[-6:]) #last indexes\n",
        "print(long_string[:-6]) #upto last indexes\n",
        "print(long_string[:4]+ 'very')\n",
        "print(\"%c is my %s letter and my number %d number is %.5f\"%\n",
        "      ('X','favorite',1,.14))\n",
        "print(long_string.capitalize())\n",
        "print(long_string.find(\"Floor\"))\n",
        "print(long_string.isalpha()) #all alphabets?\n",
        "print(long_string.isalnum()) #all numbers?\n",
        "print(len(long_string))\n",
        "print(long_string.replace(\"Badminton\",\"Basketball\"))\n",
        "print(long_string.strip())\n",
        "conv_to_list = long_string.split(\" \")\n",
        "print(conv_to_list)"
      ],
      "metadata": {
        "colab": {
          "base_uri": "https://localhost:8080/"
        },
        "id": "QBalrV7EabYQ",
        "outputId": "a90b47d8-5c41-4cd3-be68-d9b50397256e"
      },
      "execution_count": null,
      "outputs": [
        {
          "output_type": "stream",
          "name": "stdout",
          "text": [
            "What is your favorite movie?\n",
            "i am\n",
            "minton\n",
            "i am good at playing Bad\n",
            "i amvery\n",
            "X is my favorite letter and my number 1 number is 0.14000\n",
            "I am good at playing badminton\n",
            "-1\n",
            "False\n",
            "False\n",
            "30\n",
            "i am good at playing Basketball\n",
            "i am good at playing Badminton\n",
            "['i', 'am', 'good', 'at', 'playing', 'Badminton']\n"
          ]
        }
      ]
    },
    {
      "cell_type": "markdown",
      "source": [
        "# File IO"
      ],
      "metadata": {
        "id": "5SDe4Kpzez7U"
      }
    },
    {
      "cell_type": "code",
      "source": [
        "import random\n",
        "import os\n",
        "import sys\n",
        "\n",
        "test_file = open(\"test.txt\",\"wb\")\n",
        "print(test_file.mode)\n",
        "print(test_file.name)\n",
        "test_file.write(bytes(\"Write me to the file\\n\",'UTF-8'))\n",
        "test_file.close()\n",
        "\n",
        "test_file = open(\"test.txt\",\"r+\")\n",
        "\n",
        "text_in_file = test_file.read()\n",
        "print(text_in_file)\n"
      ],
      "metadata": {
        "colab": {
          "base_uri": "https://localhost:8080/"
        },
        "id": "30IpQFYZe3Bm",
        "outputId": "dd8f58b8-4ca8-4beb-9972-c8c43ed973b3"
      },
      "execution_count": null,
      "outputs": [
        {
          "output_type": "stream",
          "name": "stdout",
          "text": [
            "wb\n",
            "test.txt\n",
            "Write me to the file\n",
            "\n"
          ]
        }
      ]
    },
    {
      "cell_type": "markdown",
      "source": [
        "# Objects"
      ],
      "metadata": {
        "id": "U8KmMpUiKwo1"
      }
    },
    {
      "cell_type": "code",
      "source": [
        "from typing_extensions import Self\n",
        "import random\n",
        "import os\n",
        "import sys\n",
        "\n",
        "class Animal:\n",
        "  __name = ''\n",
        "  __height = 0\n",
        "  __weight = 0\n",
        "  __sound = 0\n",
        "\n",
        "  def __init__(self, name, height, weight, sound):\n",
        "     self.__name = name\n",
        "     self.__height = height\n",
        "     self.__weight = weight\n",
        "     self.__sound = sound\n",
        "\n",
        "  def get_name(self):\n",
        "      return self.__name\n",
        "\n",
        "  def get_height(self):\n",
        "      return self.__height\n",
        "\n",
        "  def get_weight(self):\n",
        "      return self.__weight\n",
        "\n",
        "  def get_sound(self):\n",
        "      return self.__sound\n",
        "\n",
        "  def get_type(self):\n",
        "      print(\"Animal\")\n",
        "\n",
        "  def toString(self):\n",
        "        return \"{} is {} cm tall and {} kgs and says {}\".format(self.__name,\n",
        "                                                              self.__height,\n",
        "                                                              self.__weight,\n",
        "                                                              self.__sound)\n",
        "\n",
        "cat = Animal('Emily', 25, 6, 'Meow')\n",
        "print(cat.toString())\n",
        "\n",
        "class Dog(Animal):\n",
        "  __owner = \"\"\n",
        "\n",
        "  def __init__(self, name, height, weight, sound, owner):\n",
        "      self.__owner = owner\n",
        "      super(Dog,self).__init__(name, height, weight, sound)\n",
        "\n",
        "  def set_owner(self, owner):\n",
        "      self.__owner = owner\n",
        "\n",
        "  def get_owner(self):\n",
        "      return self.__owner\n",
        "\n",
        "  def get_type(self):\n",
        "      print(\"Dog\")\n",
        "\n",
        "  def toString(self):\n",
        "      return \"{} is {} cm tall and {} kgs and says {} His owner is {}\".format(self.get_name(),\n",
        "                                                              self.get_height(),\n",
        "                                                              self.get_weight(),\n",
        "                                                              self.get_sound(),\n",
        "                                                              self.__owner)\n",
        "\n",
        "  def multiple_sounds(self, how_many=None):\n",
        "    if how_many is None:\n",
        "      print(self.get_sound())\n",
        "    else:\n",
        "      print(self.get_sound() * how_many)\n",
        "\n",
        "helen = Dog(\"Helen\", 35, 27, \"Woof\", \"Soumya\")\n",
        "\n",
        "print(helen.toString())\n",
        "\n",
        "class AnimalTesting:\n",
        "  def get_type(self, animal):\n",
        "    animal.get_type()\n",
        "\n",
        "test_animals = AnimalTesting()\n",
        "test_animals.get_type(cat)\n",
        "test_animals.get_type(helen)\n",
        "\n",
        "helen.multiple_sounds(2)\n",
        "\n"
      ],
      "metadata": {
        "colab": {
          "base_uri": "https://localhost:8080/"
        },
        "id": "Wgkah22sKzr2",
        "outputId": "677669b1-7076-4c7e-a88e-2c99c0f88065"
      },
      "execution_count": null,
      "outputs": [
        {
          "output_type": "stream",
          "name": "stdout",
          "text": [
            "Emily is 25 cm tall and 6 kgs and says Meow\n",
            "Helen is 35 cm tall and 27 kgs and says Woof His owner is Soumya\n",
            "Animal\n",
            "Dog\n",
            "WoofWoof\n"
          ]
        }
      ]
    }
  ]
}