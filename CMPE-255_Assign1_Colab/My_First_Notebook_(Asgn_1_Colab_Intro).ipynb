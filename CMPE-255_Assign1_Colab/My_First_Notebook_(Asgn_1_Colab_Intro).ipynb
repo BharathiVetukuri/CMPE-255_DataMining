{
  "nbformat": 4,
  "nbformat_minor": 0,
  "metadata": {
    "colab": {
      "provenance": []
    },
    "kernelspec": {
      "name": "python3",
      "display_name": "Python 3"
    },
    "language_info": {
      "name": "python"
    }
  },
  "cells": [
    {
      "cell_type": "markdown",
      "source": [
        "# Import Library\n",
        "necessary ***libraries*** for this **notebook** are imported here.\n",
        "\n",
        "Default Libraries\n",
        "1.   pandas\n",
        "2.   numpy\n",
        "\n",
        "Libraries for installing\n",
        "*   py3dmo\n",
        "*   etc\n",
        "\n",
        "\n",
        "\n",
        "\n"
      ],
      "metadata": {
        "id": "4CANm0wrpVb0"
      }
    },
    {
      "cell_type": "code",
      "execution_count": null,
      "metadata": {
        "id": "tFw-9beVhDp7"
      },
      "outputs": [],
      "source": [
        "import pandas as pd\n",
        "import seaborn as sns\n",
        "import numpy as np\n",
        "from sklearn import svm\n",
        "import matplotlib as plt"
      ]
    },
    {
      "cell_type": "code",
      "source": [
        "! pip install py3dmol"
      ],
      "metadata": {
        "colab": {
          "base_uri": "https://localhost:8080/"
        },
        "id": "yf_SATr7stsn",
        "outputId": "194e599c-964d-4bbe-c821-e1e2f0674554"
      },
      "execution_count": null,
      "outputs": [
        {
          "output_type": "stream",
          "name": "stdout",
          "text": [
            "Collecting py3dmol\n",
            "  Downloading py3Dmol-2.4.0-py2.py3-none-any.whl.metadata (1.9 kB)\n",
            "Downloading py3Dmol-2.4.0-py2.py3-none-any.whl (7.0 kB)\n",
            "Installing collected packages: py3dmol\n",
            "Successfully installed py3dmol-2.4.0\n"
          ]
        }
      ]
    },
    {
      "cell_type": "code",
      "source": [
        "import py3Dmol\n",
        "\n",
        "p = py3Dmol.view(query='mmtf:1ycr')\n",
        "p.setStyle({'cartoon':{'color':'spectrum'}})"
      ],
      "metadata": {
        "colab": {
          "base_uri": "https://localhost:8080/",
          "height": 515
        },
        "id": "-UljYtGitKXT",
        "outputId": "ffde4c7c-a95c-4a5d-d81c-daa09ba45cdb"
      },
      "execution_count": null,
      "outputs": [
        {
          "output_type": "display_data",
          "data": {
            "application/3dmoljs_load.v0": "<div id=\"3dmolviewer_1725548683741599\"  style=\"position: relative; width: 640px; height: 480px;\">\n        <p id=\"3dmolwarning_1725548683741599\" style=\"background-color:#ffcccc;color:black\">3Dmol.js failed to load for some reason.  Please check your browser console for error messages.<br></p>\n        </div>\n<script>\n\nvar loadScriptAsync = function(uri){\n  return new Promise((resolve, reject) => {\n    //this is to ignore the existence of requirejs amd\n    var savedexports, savedmodule;\n    if (typeof exports !== 'undefined') savedexports = exports;\n    else exports = {}\n    if (typeof module !== 'undefined') savedmodule = module;\n    else module = {}\n\n    var tag = document.createElement('script');\n    tag.src = uri;\n    tag.async = true;\n    tag.onload = () => {\n        exports = savedexports;\n        module = savedmodule;\n        resolve();\n    };\n  var firstScriptTag = document.getElementsByTagName('script')[0];\n  firstScriptTag.parentNode.insertBefore(tag, firstScriptTag);\n});\n};\n\nif(typeof $3Dmolpromise === 'undefined') {\n$3Dmolpromise = null;\n  $3Dmolpromise = loadScriptAsync('https://cdnjs.cloudflare.com/ajax/libs/3Dmol/2.4.0/3Dmol-min.js');\n}\n\nvar viewer_1725548683741599 = null;\nvar warn = document.getElementById(\"3dmolwarning_1725548683741599\");\nif(warn) {\n    warn.parentNode.removeChild(warn);\n}\n$3Dmolpromise.then(function() {\nviewer_1725548683741599 = $3Dmol.createViewer(document.getElementById(\"3dmolviewer_1725548683741599\"),{backgroundColor:\"white\"});\n$3Dmol.download(\"mmtf:1ycr\", viewer_1725548683741599, {}, function() {\nviewer_1725548683741599.zoomTo();\n\tviewer_1725548683741599.setStyle({\"cartoon\": {\"color\": \"spectrum\"}});\nviewer_1725548683741599.render();\n})\n});\n</script>",
            "text/html": [
              "<div id=\"3dmolviewer_1725548683741599\"  style=\"position: relative; width: 640px; height: 480px;\">\n",
              "        <p id=\"3dmolwarning_1725548683741599\" style=\"background-color:#ffcccc;color:black\">3Dmol.js failed to load for some reason.  Please check your browser console for error messages.<br></p>\n",
              "        </div>\n",
              "<script>\n",
              "\n",
              "var loadScriptAsync = function(uri){\n",
              "  return new Promise((resolve, reject) => {\n",
              "    //this is to ignore the existence of requirejs amd\n",
              "    var savedexports, savedmodule;\n",
              "    if (typeof exports !== 'undefined') savedexports = exports;\n",
              "    else exports = {}\n",
              "    if (typeof module !== 'undefined') savedmodule = module;\n",
              "    else module = {}\n",
              "\n",
              "    var tag = document.createElement('script');\n",
              "    tag.src = uri;\n",
              "    tag.async = true;\n",
              "    tag.onload = () => {\n",
              "        exports = savedexports;\n",
              "        module = savedmodule;\n",
              "        resolve();\n",
              "    };\n",
              "  var firstScriptTag = document.getElementsByTagName('script')[0];\n",
              "  firstScriptTag.parentNode.insertBefore(tag, firstScriptTag);\n",
              "});\n",
              "};\n",
              "\n",
              "if(typeof $3Dmolpromise === 'undefined') {\n",
              "$3Dmolpromise = null;\n",
              "  $3Dmolpromise = loadScriptAsync('https://cdnjs.cloudflare.com/ajax/libs/3Dmol/2.4.0/3Dmol-min.js');\n",
              "}\n",
              "\n",
              "var viewer_1725548683741599 = null;\n",
              "var warn = document.getElementById(\"3dmolwarning_1725548683741599\");\n",
              "if(warn) {\n",
              "    warn.parentNode.removeChild(warn);\n",
              "}\n",
              "$3Dmolpromise.then(function() {\n",
              "viewer_1725548683741599 = $3Dmol.createViewer(document.getElementById(\"3dmolviewer_1725548683741599\"),{backgroundColor:\"white\"});\n",
              "$3Dmol.download(\"mmtf:1ycr\", viewer_1725548683741599, {}, function() {\n",
              "viewer_1725548683741599.zoomTo();\n",
              "\tviewer_1725548683741599.setStyle({\"cartoon\": {\"color\": \"spectrum\"}});\n",
              "viewer_1725548683741599.render();\n",
              "})\n",
              "});\n",
              "</script>"
            ]
          },
          "metadata": {}
        },
        {
          "output_type": "execute_result",
          "data": {
            "text/plain": [
              "<py3Dmol.view at 0x7b964b1c0af0>"
            ]
          },
          "metadata": {},
          "execution_count": 20
        }
      ]
    },
    {
      "cell_type": "markdown",
      "source": [
        "Example Text goes here. Welcome Soumya!"
      ],
      "metadata": {
        "id": "f0SmFZaeh3kz"
      }
    },
    {
      "cell_type": "code",
      "source": [
        "#Heading1"
      ],
      "metadata": {
        "id": "AeZnwd1sh9H7"
      },
      "execution_count": null,
      "outputs": []
    },
    {
      "cell_type": "code",
      "source": [],
      "metadata": {
        "id": "Rd-vz5cFiEFE"
      },
      "execution_count": null,
      "outputs": []
    },
    {
      "cell_type": "code",
      "source": [],
      "metadata": {
        "id": "_qMh7HhnnlUo"
      },
      "execution_count": null,
      "outputs": []
    },
    {
      "cell_type": "markdown",
      "source": [
        "# Heading 1\n",
        "\n",
        "This represents the contents of Heading 1."
      ],
      "metadata": {
        "id": "GiFK6AHqiK9Z"
      }
    },
    {
      "cell_type": "code",
      "source": [
        "a=1"
      ],
      "metadata": {
        "id": "tDDqZjgSibfO"
      },
      "execution_count": null,
      "outputs": []
    },
    {
      "cell_type": "code",
      "source": [
        "b=\"Soumya\""
      ],
      "metadata": {
        "id": "I7g2t4eGjExS"
      },
      "execution_count": null,
      "outputs": []
    },
    {
      "cell_type": "code",
      "source": [
        "c=[1,'s',\"hello\",2,3]"
      ],
      "metadata": {
        "id": "fAAYXFdqjHyv"
      },
      "execution_count": null,
      "outputs": []
    },
    {
      "cell_type": "code",
      "source": [
        "cars = [1,2,3,4,5]"
      ],
      "metadata": {
        "id": "AK8edII7jSsx"
      },
      "execution_count": null,
      "outputs": []
    },
    {
      "cell_type": "code",
      "source": [
        "d=[\"Soumya\",\"Bharathi\",\"Paddu\",\"Krishna\",\"Raju\"]"
      ],
      "metadata": {
        "id": "unUM81eTjh0C"
      },
      "execution_count": null,
      "outputs": []
    },
    {
      "cell_type": "code",
      "source": [
        "for i,j in zip(cars,d):\n",
        "  if i==1:\n",
        "    print(j + 'has' + str(i) + 'car')\n",
        "  else:\n",
        "    print(j + 'has' + str(i) + 'cars')\n"
      ],
      "metadata": {
        "colab": {
          "base_uri": "https://localhost:8080/"
        },
        "id": "KaEmVFPejwvs",
        "outputId": "99b78b66-7b76-4bb9-9ad0-70c2318c651f"
      },
      "execution_count": null,
      "outputs": [
        {
          "output_type": "stream",
          "name": "stdout",
          "text": [
            "Soumyahas1car\n",
            "Bharathihas2cars\n",
            "Padduhas3cars\n",
            "Krishnahas4cars\n",
            "Rajuhas5cars\n"
          ]
        }
      ]
    },
    {
      "cell_type": "markdown",
      "source": [
        "## Heading 1.1\n",
        "This represents the contents of Heading 2"
      ],
      "metadata": {
        "id": "du03fg_mnHfp"
      }
    },
    {
      "cell_type": "code",
      "source": [
        "var1 = 2"
      ],
      "metadata": {
        "id": "sByouy47l32Q"
      },
      "execution_count": null,
      "outputs": []
    },
    {
      "cell_type": "markdown",
      "source": [
        "### Heading 1.2"
      ],
      "metadata": {
        "id": "emJeDF_zntIV"
      }
    },
    {
      "cell_type": "code",
      "source": [],
      "metadata": {
        "id": "oLd7_JVjnvr7"
      },
      "execution_count": null,
      "outputs": []
    }
  ]
}