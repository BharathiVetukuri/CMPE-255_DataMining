{
  "cells": [
    {
      "cell_type": "code",
      "execution_count": null,
      "metadata": {
        "colab": {
          "base_uri": "https://localhost:8080/"
        },
        "id": "t55pBo5EWe5I",
        "outputId": "9fa4a885-e992-4cc3-ea21-17950456e4e3"
      },
      "outputs": [
        {
          "name": "stdout",
          "output_type": "stream",
          "text": [
            "--2024-09-05 18:06:26--  https://losc.ligo.net/s/events/LOSC_Event_tutorial.zip\n",
            "Resolving losc.ligo.net (losc.ligo.net)... 54.237.57.21, 3.233.30.191\n",
            "Connecting to losc.ligo.net (losc.ligo.net)|54.237.57.21|:443... connected.\n",
            "HTTP request sent, awaiting response... 302 Found\n",
            "Location: https://www.namepros.com/parked/losc.ligo.net?referrer= [following]\n",
            "--2024-09-05 18:06:29--  https://www.namepros.com/parked/losc.ligo.net?referrer=\n",
            "Resolving www.namepros.com (www.namepros.com)... 172.67.72.183, 104.26.11.237, 104.26.10.237, ...\n",
            "Connecting to www.namepros.com (www.namepros.com)|172.67.72.183|:443... connected.\n",
            "HTTP request sent, awaiting response... 200 OK\n",
            "Length: unspecified [text/html]\n",
            "Saving to: ‘LOSC_Event_tutorial.zip’\n",
            "\n",
            "LOSC_Event_tutorial     [ <=>                ]  19.78K  --.-KB/s    in 0s      \n",
            "\n",
            "2024-09-05 18:06:30 (82.2 MB/s) - ‘LOSC_Event_tutorial.zip’ saved [20253]\n",
            "\n"
          ]
        }
      ],
      "source": [
        "# Wget to download\n",
        "!wget https://losc.ligo.net/s/events/LOSC_Event_tutorial.zip\n"
      ]
    },
    {
      "cell_type": "code",
      "execution_count": null,
      "metadata": {
        "colab": {
          "base_uri": "https://localhost:8080/"
        },
        "id": "d_JhIcRIX11n",
        "outputId": "d11525a9-8181-4e3f-ecf8-171b446925ea"
      },
      "outputs": [
        {
          "name": "stdout",
          "output_type": "stream",
          "text": [
            "Archive:  LOSC_Event_tutorial.zip\n",
            "  End-of-central-directory signature not found.  Either this file is not\n",
            "  a zipfile, or it constitutes one disk of a multi-part archive.  In the\n",
            "  latter case the central directory and zipfile comment will be found on\n",
            "  the last disk(s) of this archive.\n",
            "unzip:  cannot find zipfile directory in one of LOSC_Event_tutorial.zip or\n",
            "        LOSC_Event_tutorial.zip.zip, and cannot find LOSC_Event_tutorial.zip.ZIP, period.\n"
          ]
        }
      ],
      "source": [
        "# Unzip the download to current directory\n",
        "!unzip -j LOSC_Event_tutorial.zip LOSC_Event_tutorial/*.*"
      ]
    },
    {
      "cell_type": "code",
      "execution_count": null,
      "metadata": {
        "colab": {
          "base_uri": "https://localhost:8080/"
        },
        "id": "bPpqkH1aY0zq",
        "outputId": "ae858678-652d-4e58-b480-78b0fd38e15e"
      },
      "outputs": [
        {
          "name": "stdout",
          "output_type": "stream",
          "text": [
            "Archive:  LOSC_Event_tutorial.zip\n",
            "  End-of-central-directory signature not found.  Either this file is not\n",
            "  a zipfile, or it constitutes one disk of a multi-part archive.  In the\n",
            "  latter case the central directory and zipfile comment will be found on\n",
            "  the last disk(s) of this archive.\n",
            "unzip:  cannot find zipfile directory in one of LOSC_Event_tutorial.zip or\n",
            "        LOSC_Event_tutorial.zip.zip, and cannot find LOSC_Event_tutorial.zip.ZIP, period.\n"
          ]
        }
      ],
      "source": [
        "# And unzip into current directory\n",
        "!unzip -j LOSC_Event_tutorial.zip LOSC_Event_tutorial/*.*"
      ]
    },
    {
      "cell_type": "code",
      "execution_count": null,
      "metadata": {
        "colab": {
          "base_uri": "https://localhost:8080/"
        },
        "id": "UCbeNjEUY2q6",
        "outputId": "132532a2-f345-4fa0-b9d6-e0a2c4a061ff"
      },
      "outputs": [
        {
          "name": "stdout",
          "output_type": "stream",
          "text": [
            "Mounted at mount\n"
          ]
        }
      ],
      "source": [
        "# connect to google drive with mount\n",
        "from google.colab import drive\n",
        "drive.mount('mount')"
      ]
    },
    {
      "cell_type": "code",
      "execution_count": null,
      "metadata": {
        "colab": {
          "base_uri": "https://localhost:8080/"
        },
        "id": "c0_22BAHY81o",
        "outputId": "6de06eff-4e2e-404e-d055-08a92197412a"
      },
      "outputs": [
        {
          "output_type": "stream",
          "name": "stdout",
          "text": [
            "cp: missing destination file operand after 'mount/MyDrive/Lecture-01_CMPE-272_Bond_Fall-2024.pdf'\n",
            "Try 'cp --help' for more information.\n"
          ]
        }
      ],
      "source": [
        "# copy a file drive to here\n",
        "!cp mount/My\\Drive/Lecture-01_CMPE-272_Bond_Fall-2024.pdf\n"
      ]
    },
    {
      "cell_type": "code",
      "execution_count": null,
      "metadata": {
        "colab": {
          "base_uri": "https://localhost:8080/"
        },
        "id": "dMXsNNDSZvIg",
        "outputId": "429e7dad-c4b1-4de7-d2c8-ae08227a743e"
      },
      "outputs": [
        {
          "name": "stdout",
          "output_type": "stream",
          "text": [
            "Drive already mounted at /content/drive; to attempt to forcibly remount, call drive.mount(\"/content/drive\", force_remount=True).\n"
          ]
        }
      ],
      "source": [
        "from google.colab import drive\n",
        "drive.mount('/content/drive')"
      ]
    },
    {
      "cell_type": "code",
      "execution_count": null,
      "metadata": {
        "colab": {
          "base_uri": "https://localhost:8080/"
        },
        "id": "JQYIrnWiZ-G6",
        "outputId": "e6abd890-5416-4c33-f11a-73b20b21fca1"
      },
      "outputs": [
        {
          "name": "stdout",
          "output_type": "stream",
          "text": [
            "/usr/local/lib/python3.10/dist-packages/gdown/__main__.py:132: FutureWarning: Option `--id` was deprecated in version 4.3.1 and will be removed in 5.0. You don't need to pass it anymore to use a file ID.\n",
            "  warnings.warn(\n",
            "Failed to retrieve file url:\n",
            "\n",
            "\tToo many users have viewed or downloaded this file recently. Please\n",
            "\ttry accessing the file again later. If the file you are trying to\n",
            "\taccess is particularly large or is shared with many people, it may\n",
            "\ttake up to 24 hours to be able to view or download the file. If you\n",
            "\tstill can't access a file after 24 hours, contact your domain\n",
            "\tadministrator.\n",
            "\n",
            "You may still be able to access the file from the browser:\n",
            "\n",
            "\thttps://drive.google.com/uc?id=0B7EVK8r0v71pZjFTYXZWM3FlRnM\n",
            "\n",
            "but Gdown can't. Please check connections and permissions.\n"
          ]
        }
      ],
      "source": [
        "# download a public file\n",
        "!gdown  --id  0B7EVK8r0v71pZjFTYXZWM3FlRnM"
      ]
    },
    {
      "cell_type": "code",
      "execution_count": null,
      "metadata": {
        "colab": {
          "base_uri": "https://localhost:8080/"
        },
        "id": "iACvCyqoa1P1",
        "outputId": "4bcf04ee-2435-48be-a7db-329de3e0c33e"
      },
      "outputs": [
        {
          "name": "stdout",
          "output_type": "stream",
          "text": [
            "-rw-r--r-- 1 root root 20253 Sep  5 18:06 LOSC_Event_tutorial.zip\n"
          ]
        }
      ],
      "source": [
        "!ls -al *.zip"
      ]
    },
    {
      "cell_type": "code",
      "execution_count": null,
      "metadata": {
        "id": "LRcTNqLAbBWk"
      },
      "outputs": [],
      "source": [
        "# authenticate (another one)\n",
        "from google.colab import auth\n",
        "auth.authenticate_user()"
      ]
    },
    {
      "cell_type": "code",
      "execution_count": null,
      "metadata": {
        "id": "0M7QjtsWeuQQ"
      },
      "outputs": [],
      "source": [
        "# download this folder\n",
        "folder_id=\"1HvIeNhqtFVllXFWzH5NawDdnIfgGDwCK\""
      ]
    },
    {
      "cell_type": "code",
      "execution_count": null,
      "metadata": {
        "id": "midj18fne8kv"
      },
      "outputs": [],
      "source": [
        "'''list all ids of files directly under folder folder_id'''\n",
        "def folder_list(folder_id):\n",
        "  from googleapiclient.discovery import build\n",
        "  gdrive = build('drive', 'v3').files()\n",
        "  res = gdrive.list(q=\"'%s' in parents\" % folder_id).execute()\n",
        "  return [f['id'] for f in res['files']]"
      ]
    },
    {
      "cell_type": "code",
      "execution_count": null,
      "metadata": {
        "colab": {
          "base_uri": "https://localhost:8080/"
        },
        "id": "Q5A4Nz12fBCZ",
        "outputId": "c541496d-1f6d-445c-fa9e-9431a35e205d"
      },
      "outputs": [
        {
          "data": {
            "text/plain": [
              "['1MJGCY0uhkwxoBpSXAYWk6WKHUAYMxGlQ',\n",
              " '1KgSEm4A7hCov2Ta6-CZldqT-9JgtiVRI',\n",
              " '16wxQwBvzMUTK5PYdakkaVFV-F38vi7RK',\n",
              " '1LuB1aplL2cl-Hs_BFdZgPoDcCnNsGJBa',\n",
              " '11mzTo7aWTeCs4TSPqKQKbYDl9xIxBISQ',\n",
              " '1VgAS5dGP2ub4G_PJ_4YwEXjEiDhqyiyt',\n",
              " '17duniZO_R7p3eTIkMzSRbNpHdQjonAMQ',\n",
              " '12oSVL5pFxe-DqVk5GWjBYHxbi9gGGYha',\n",
              " '1QKUWh62qzaOIBebJY0IkcAxqHCEaeYo1',\n",
              " '1QEMMVAAsA93qrlXhVxjFH4wbLiU6R6Ds',\n",
              " '18SYApxloSMwaSgnOILkOm7FjOVaFH6DH',\n",
              " '1jAg2oODTyVZvHvDwEdQhmxsnQWG-cbLH',\n",
              " '1toORa_XzdSj4UNMYSyeVmEgEniMot9PJ',\n",
              " '1aHDIvbB6MKZTxIfZgAeU8WzN6JIsGrPa']"
            ]
          },
          "execution_count": 13,
          "metadata": {},
          "output_type": "execute_result"
        }
      ],
      "source": [
        "folder_list(folder_id)"
      ]
    },
    {
      "cell_type": "code",
      "execution_count": null,
      "metadata": {
        "id": "-x5ueFfVfOH9"
      },
      "outputs": [],
      "source": [
        "# download them one by one, !gdown in the loop , (--q : quiet)\n",
        "def folder_download(folder_id):\n",
        "  for fid in folder_list(folder_id):\n",
        "    !gdown -q --id $fid"
      ]
    },
    {
      "cell_type": "code",
      "execution_count": null,
      "metadata": {
        "colab": {
          "base_uri": "https://localhost:8080/"
        },
        "id": "r9KlLKo4fWOq",
        "outputId": "a45b2b46-37fa-4857-b2fe-3b7faa32c0dd"
      },
      "outputs": [
        {
          "name": "stdout",
          "output_type": "stream",
          "text": [
            "/usr/local/lib/python3.10/dist-packages/gdown/__main__.py:132: FutureWarning: Option `--id` was deprecated in version 4.3.1 and will be removed in 5.0. You don't need to pass it anymore to use a file ID.\n",
            "  warnings.warn(\n",
            "/usr/local/lib/python3.10/dist-packages/gdown/__main__.py:132: FutureWarning: Option `--id` was deprecated in version 4.3.1 and will be removed in 5.0. You don't need to pass it anymore to use a file ID.\n",
            "  warnings.warn(\n",
            "/usr/local/lib/python3.10/dist-packages/gdown/__main__.py:132: FutureWarning: Option `--id` was deprecated in version 4.3.1 and will be removed in 5.0. You don't need to pass it anymore to use a file ID.\n",
            "  warnings.warn(\n",
            "/usr/local/lib/python3.10/dist-packages/gdown/__main__.py:132: FutureWarning: Option `--id` was deprecated in version 4.3.1 and will be removed in 5.0. You don't need to pass it anymore to use a file ID.\n",
            "  warnings.warn(\n",
            "/usr/local/lib/python3.10/dist-packages/gdown/__main__.py:132: FutureWarning: Option `--id` was deprecated in version 4.3.1 and will be removed in 5.0. You don't need to pass it anymore to use a file ID.\n",
            "  warnings.warn(\n",
            "/usr/local/lib/python3.10/dist-packages/gdown/__main__.py:132: FutureWarning: Option `--id` was deprecated in version 4.3.1 and will be removed in 5.0. You don't need to pass it anymore to use a file ID.\n",
            "  warnings.warn(\n",
            "/usr/local/lib/python3.10/dist-packages/gdown/__main__.py:132: FutureWarning: Option `--id` was deprecated in version 4.3.1 and will be removed in 5.0. You don't need to pass it anymore to use a file ID.\n",
            "  warnings.warn(\n",
            "/usr/local/lib/python3.10/dist-packages/gdown/__main__.py:132: FutureWarning: Option `--id` was deprecated in version 4.3.1 and will be removed in 5.0. You don't need to pass it anymore to use a file ID.\n",
            "  warnings.warn(\n",
            "/usr/local/lib/python3.10/dist-packages/gdown/__main__.py:132: FutureWarning: Option `--id` was deprecated in version 4.3.1 and will be removed in 5.0. You don't need to pass it anymore to use a file ID.\n",
            "  warnings.warn(\n",
            "/usr/local/lib/python3.10/dist-packages/gdown/__main__.py:132: FutureWarning: Option `--id` was deprecated in version 4.3.1 and will be removed in 5.0. You don't need to pass it anymore to use a file ID.\n",
            "  warnings.warn(\n",
            "/usr/local/lib/python3.10/dist-packages/gdown/__main__.py:132: FutureWarning: Option `--id` was deprecated in version 4.3.1 and will be removed in 5.0. You don't need to pass it anymore to use a file ID.\n",
            "  warnings.warn(\n",
            "/usr/local/lib/python3.10/dist-packages/gdown/__main__.py:132: FutureWarning: Option `--id` was deprecated in version 4.3.1 and will be removed in 5.0. You don't need to pass it anymore to use a file ID.\n",
            "  warnings.warn(\n",
            "/usr/local/lib/python3.10/dist-packages/gdown/__main__.py:132: FutureWarning: Option `--id` was deprecated in version 4.3.1 and will be removed in 5.0. You don't need to pass it anymore to use a file ID.\n",
            "  warnings.warn(\n",
            "/usr/local/lib/python3.10/dist-packages/gdown/__main__.py:132: FutureWarning: Option `--id` was deprecated in version 4.3.1 and will be removed in 5.0. You don't need to pass it anymore to use a file ID.\n",
            "  warnings.warn(\n"
          ]
        }
      ],
      "source": [
        "folder_download(folder_id)"
      ]
    },
    {
      "cell_type": "code",
      "execution_count": null,
      "metadata": {
        "colab": {
          "base_uri": "https://localhost:8080/"
        },
        "collapsed": true,
        "id": "9adffI_Xf6rx",
        "outputId": "0a09659d-0529-4b77-e36a-11ef928f643e"
      },
      "outputs": [
        {
          "name": "stdout",
          "output_type": "stream",
          "text": [
            "--2024-09-05 19:06:16--  https://repo.continuum.io/archive/Anaconda3-5.2.0-Linux-x86_64.sh\n",
            "Resolving repo.continuum.io (repo.continuum.io)... 104.18.176.84, 104.18.177.84, 2606:4700::6812:b054, ...\n",
            "Connecting to repo.continuum.io (repo.continuum.io)|104.18.176.84|:443... connected.\n",
            "HTTP request sent, awaiting response... 301 Moved Permanently\n",
            "Location: https://repo.anaconda.com/archive/Anaconda3-5.2.0-Linux-x86_64.sh [following]\n",
            "--2024-09-05 19:06:16--  https://repo.anaconda.com/archive/Anaconda3-5.2.0-Linux-x86_64.sh\n",
            "Resolving repo.anaconda.com (repo.anaconda.com)... 104.16.191.158, 104.16.32.241, 2606:4700::6810:bf9e, ...\n",
            "Connecting to repo.anaconda.com (repo.anaconda.com)|104.16.191.158|:443... connected.\n",
            "HTTP request sent, awaiting response... 416 Requested Range Not Satisfiable\n",
            "\n",
            "    The file is already fully retrieved; nothing to do.\n",
            "\n",
            "PREFIX=/usr/local\n",
            "installing: python-3.6.5-hc3d631a_2 ...\n",
            "Python 3.6.5 :: Anaconda, Inc.\n",
            "installing: blas-1.0-mkl ...\n",
            "installing: ca-certificates-2018.03.07-0 ...\n",
            "installing: conda-env-2.6.0-h36134e3_1 ...\n",
            "installing: intel-openmp-2018.0.0-8 ...\n",
            "installing: libgcc-ng-7.2.0-hdf63c60_3 ...\n",
            "installing: libgfortran-ng-7.2.0-hdf63c60_3 ...\n",
            "installing: libstdcxx-ng-7.2.0-hdf63c60_3 ...\n",
            "installing: bzip2-1.0.6-h14c3975_5 ...\n",
            "installing: expat-2.2.5-he0dffb1_0 ...\n",
            "installing: gmp-6.1.2-h6c8ec71_1 ...\n",
            "installing: graphite2-1.3.11-h16798f4_2 ...\n",
            "installing: icu-58.2-h9c2bf20_1 ...\n",
            "installing: jbig-2.1-hdba287a_0 ...\n",
            "installing: jpeg-9b-h024ee3a_2 ...\n",
            "installing: libffi-3.2.1-hd88cf55_4 ...\n",
            "installing: libsodium-1.0.16-h1bed415_0 ...\n",
            "installing: libtool-2.4.6-h544aabb_3 ...\n",
            "installing: libxcb-1.13-h1bed415_1 ...\n",
            "installing: lzo-2.10-h49e0be7_2 ...\n",
            "installing: mkl-2018.0.2-1 ...\n",
            "installing: ncurses-6.1-hf484d3e_0 ...\n",
            "installing: openssl-1.0.2o-h20670df_0 ...\n",
            "installing: patchelf-0.9-hf79760b_2 ...\n",
            "installing: pcre-8.42-h439df22_0 ...\n",
            "installing: pixman-0.34.0-hceecf20_3 ...\n",
            "installing: snappy-1.1.7-hbae5bb6_3 ...\n",
            "installing: tk-8.6.7-hc745277_3 ...\n",
            "installing: unixodbc-2.3.6-h1bed415_0 ...\n",
            "installing: xz-5.2.4-h14c3975_4 ...\n",
            "installing: yaml-0.1.7-had09818_2 ...\n",
            "installing: zlib-1.2.11-ha838bed_2 ...\n",
            "installing: blosc-1.14.3-hdbcaa40_0 ...\n",
            "installing: glib-2.56.1-h000015b_0 ...\n",
            "installing: hdf5-1.10.2-hba1933b_1 ...\n",
            "installing: libedit-3.1.20170329-h6b74fdf_2 ...\n",
            "installing: libpng-1.6.34-hb9fc6fc_0 ...\n",
            "installing: libssh2-1.8.0-h9cfc8f7_4 ...\n",
            "installing: libtiff-4.0.9-he85c1e1_1 ...\n",
            "installing: libxml2-2.9.8-h26e45fe_1 ...\n",
            "installing: mpfr-3.1.5-h11a74b3_2 ...\n",
            "installing: pandoc-1.19.2.1-hea2e7c5_1 ...\n",
            "installing: readline-7.0-ha6073c6_4 ...\n",
            "installing: zeromq-4.2.5-h439df22_0 ...\n",
            "installing: dbus-1.13.2-h714fa37_1 ...\n",
            "installing: freetype-2.8-hab7d2ae_1 ...\n",
            "installing: gstreamer-1.14.0-hb453b48_1 ...\n",
            "installing: libcurl-7.60.0-h1ad7b7a_0 ...\n",
            "installing: libxslt-1.1.32-h1312cb7_0 ...\n",
            "installing: mpc-1.0.3-hec55b23_5 ...\n",
            "installing: sqlite-3.23.1-he433501_0 ...\n",
            "installing: curl-7.60.0-h84994c4_0 ...\n",
            "installing: fontconfig-2.12.6-h49f89f6_0 ...\n",
            "installing: gst-plugins-base-1.14.0-hbbd80ab_1 ...\n",
            "installing: alabaster-0.7.10-py36h306e16b_0 ...\n",
            "installing: asn1crypto-0.24.0-py36_0 ...\n",
            "installing: attrs-18.1.0-py36_0 ...\n",
            "installing: backcall-0.1.0-py36_0 ...\n",
            "installing: backports-1.0-py36hfa02d7e_1 ...\n",
            "installing: beautifulsoup4-4.6.0-py36h49b8c8c_1 ...\n",
            "installing: bitarray-0.8.1-py36h14c3975_1 ...\n",
            "installing: boto-2.48.0-py36h6e4cd66_1 ...\n",
            "installing: cairo-1.14.12-h7636065_2 ...\n",
            "installing: certifi-2018.4.16-py36_0 ...\n",
            "installing: chardet-3.0.4-py36h0f667ec_1 ...\n",
            "installing: click-6.7-py36h5253387_0 ...\n",
            "installing: cloudpickle-0.5.3-py36_0 ...\n",
            "installing: colorama-0.3.9-py36h489cec4_0 ...\n",
            "installing: contextlib2-0.5.5-py36h6c84a62_0 ...\n",
            "installing: dask-core-0.17.5-py36_0 ...\n",
            "installing: decorator-4.3.0-py36_0 ...\n",
            "installing: docutils-0.14-py36hb0f60f5_0 ...\n",
            "installing: entrypoints-0.2.3-py36h1aec115_2 ...\n",
            "installing: et_xmlfile-1.0.1-py36hd6bccc3_0 ...\n",
            "installing: fastcache-1.0.2-py36h14c3975_2 ...\n",
            "installing: filelock-3.0.4-py36_0 ...\n",
            "installing: glob2-0.6-py36he249c77_0 ...\n",
            "installing: gmpy2-2.0.8-py36hc8893dd_2 ...\n",
            "installing: greenlet-0.4.13-py36h14c3975_0 ...\n",
            "installing: heapdict-1.0.0-py36_2 ...\n",
            "installing: idna-2.6-py36h82fb2a8_1 ...\n",
            "installing: imagesize-1.0.0-py36_0 ...\n",
            "installing: ipython_genutils-0.2.0-py36hb52b0d5_0 ...\n",
            "installing: itsdangerous-0.24-py36h93cc618_1 ...\n",
            "installing: jdcal-1.4-py36_0 ...\n",
            "installing: kiwisolver-1.0.1-py36h764f252_0 ...\n",
            "installing: lazy-object-proxy-1.3.1-py36h10fcdad_0 ...\n",
            "installing: llvmlite-0.23.1-py36hdbcaa40_0 ...\n",
            "installing: locket-0.2.0-py36h787c0ad_1 ...\n",
            "installing: lxml-4.2.1-py36h23eabaa_0 ...\n",
            "installing: markupsafe-1.0-py36hd9260cd_1 ...\n",
            "installing: mccabe-0.6.1-py36h5ad9710_1 ...\n",
            "installing: mistune-0.8.3-py36h14c3975_1 ...\n",
            "installing: mkl-service-1.1.2-py36h17a0993_4 ...\n",
            "installing: mpmath-1.0.0-py36hfeacd6b_2 ...\n",
            "installing: msgpack-python-0.5.6-py36h6bb024c_0 ...\n",
            "installing: multipledispatch-0.5.0-py36_0 ...\n",
            "installing: numpy-base-1.14.3-py36h9be14a7_1 ...\n",
            "installing: olefile-0.45.1-py36_0 ...\n",
            "installing: pandocfilters-1.4.2-py36ha6701b7_1 ...\n",
            "installing: parso-0.2.0-py36_0 ...\n",
            "installing: path.py-11.0.1-py36_0 ...\n",
            "installing: pep8-1.7.1-py36_0 ...\n",
            "installing: pickleshare-0.7.4-py36h63277f8_0 ...\n",
            "installing: pkginfo-1.4.2-py36_1 ...\n",
            "installing: pluggy-0.6.0-py36hb689045_0 ...\n",
            "installing: ply-3.11-py36_0 ...\n",
            "installing: psutil-5.4.5-py36h14c3975_0 ...\n",
            "installing: ptyprocess-0.5.2-py36h69acd42_0 ...\n",
            "installing: py-1.5.3-py36_0 ...\n",
            "installing: pycodestyle-2.4.0-py36_0 ...\n",
            "installing: pycosat-0.6.3-py36h0a5515d_0 ...\n",
            "installing: pycparser-2.18-py36hf9f622e_1 ...\n",
            "installing: pycrypto-2.6.1-py36h14c3975_8 ...\n",
            "installing: pycurl-7.43.0.1-py36hb7f436b_0 ...\n",
            "installing: pyodbc-4.0.23-py36hf484d3e_0 ...\n",
            "installing: pyparsing-2.2.0-py36hee85983_1 ...\n",
            "installing: pysocks-1.6.8-py36_0 ...\n",
            "installing: pytz-2018.4-py36_0 ...\n",
            "installing: pyyaml-3.12-py36hafb9ca4_1 ...\n",
            "installing: pyzmq-17.0.0-py36h14c3975_0 ...\n",
            "installing: qt-5.9.5-h7e424d6_0 ...\n",
            "installing: qtpy-1.4.1-py36_0 ...\n",
            "installing: rope-0.10.7-py36h147e2ec_0 ...\n",
            "installing: ruamel_yaml-0.15.35-py36h14c3975_1 ...\n",
            "installing: send2trash-1.5.0-py36_0 ...\n",
            "installing: simplegeneric-0.8.1-py36_2 ...\n",
            "installing: sip-4.19.8-py36hf484d3e_0 ...\n",
            "installing: six-1.11.0-py36h372c433_1 ...\n",
            "installing: snowballstemmer-1.2.1-py36h6febd40_0 ...\n",
            "installing: sortedcontainers-1.5.10-py36_0 ...\n",
            "installing: sphinxcontrib-1.0-py36h6d0f590_1 ...\n",
            "installing: sqlalchemy-1.2.7-py36h6b74fdf_0 ...\n",
            "installing: tblib-1.3.2-py36h34cf8b6_0 ...\n",
            "installing: testpath-0.3.1-py36h8cadb63_0 ...\n",
            "installing: toolz-0.9.0-py36_0 ...\n",
            "installing: tornado-5.0.2-py36_0 ...\n",
            "installing: typing-3.6.4-py36_0 ...\n",
            "installing: unicodecsv-0.14.1-py36ha668878_0 ...\n",
            "installing: wcwidth-0.1.7-py36hdf4376a_0 ...\n",
            "installing: webencodings-0.5.1-py36h800622e_1 ...\n",
            "installing: werkzeug-0.14.1-py36_0 ...\n",
            "installing: wrapt-1.10.11-py36h28b7045_0 ...\n",
            "installing: xlrd-1.1.0-py36h1db9f0c_1 ...\n",
            "installing: xlsxwriter-1.0.4-py36_0 ...\n",
            "installing: xlwt-1.3.0-py36h7b00a1f_0 ...\n",
            "installing: babel-2.5.3-py36_0 ...\n",
            "installing: backports.shutil_get_terminal_size-1.0.0-py36hfea85ff_2 ...\n",
            "installing: cffi-1.11.5-py36h9745a5d_0 ...\n",
            "installing: conda-verify-2.0.0-py36h98955d8_0 ...\n",
            "installing: cycler-0.10.0-py36h93f1223_0 ...\n",
            "installing: cytoolz-0.9.0.1-py36h14c3975_0 ...\n",
            "installing: harfbuzz-1.7.6-h5f0a787_1 ...\n",
            "installing: html5lib-1.0.1-py36h2f9c1c0_0 ...\n",
            "installing: jedi-0.12.0-py36_1 ...\n",
            "installing: more-itertools-4.1.0-py36_0 ...\n",
            "installing: networkx-2.1-py36_0 ...\n",
            "installing: nltk-3.3.0-py36_0 ...\n",
            "installing: openpyxl-2.5.3-py36_0 ...\n",
            "installing: packaging-17.1-py36_0 ...\n",
            "installing: partd-0.3.8-py36h36fd896_0 ...\n",
            "installing: pathlib2-2.3.2-py36_0 ...\n",
            "installing: pexpect-4.5.0-py36_0 ...\n",
            "installing: pillow-5.1.0-py36h3deb7b8_0 ...\n",
            "installing: pyqt-5.9.2-py36h751905a_0 ...\n",
            "installing: python-dateutil-2.7.3-py36_0 ...\n",
            "installing: qtawesome-0.4.4-py36h609ed8c_0 ...\n",
            "installing: setuptools-39.1.0-py36_0 ...\n",
            "installing: singledispatch-3.4.0.3-py36h7a266c3_0 ...\n",
            "installing: sortedcollections-0.6.1-py36_0 ...\n",
            "installing: sphinxcontrib-websupport-1.0.1-py36hb5cb234_1 ...\n",
            "installing: sympy-1.1.1-py36hc6d1c1c_0 ...\n",
            "installing: terminado-0.8.1-py36_1 ...\n",
            "installing: traitlets-4.3.2-py36h674d592_0 ...\n",
            "installing: zict-0.1.3-py36h3a3bf81_0 ...\n",
            "installing: astroid-1.6.3-py36_0 ...\n",
            "installing: bleach-2.1.3-py36_0 ...\n",
            "installing: clyent-1.2.2-py36h7e57e65_1 ...\n",
            "installing: cryptography-2.2.2-py36h14c3975_0 ...\n",
            "installing: cython-0.28.2-py36h14c3975_0 ...\n",
            "installing: distributed-1.21.8-py36_0 ...\n",
            "installing: get_terminal_size-1.0.0-haa9412d_0 ...\n",
            "installing: gevent-1.3.0-py36h14c3975_0 ...\n",
            "installing: isort-4.3.4-py36_0 ...\n",
            "installing: jinja2-2.10-py36ha16c418_0 ...\n",
            "installing: jsonschema-2.6.0-py36h006f8b5_0 ...\n",
            "installing: jupyter_core-4.4.0-py36h7c827e3_0 ...\n",
            "installing: navigator-updater-0.2.1-py36_0 ...\n",
            "installing: nose-1.3.7-py36hcdf7029_2 ...\n",
            "installing: pango-1.41.0-hd475d92_0 ...\n",
            "installing: pyflakes-1.6.0-py36h7bd6a15_0 ...\n",
            "installing: pygments-2.2.0-py36h0d3125c_0 ...\n",
            "installing: pytest-3.5.1-py36_0 ...\n",
            "installing: wheel-0.31.1-py36_0 ...\n",
            "installing: flask-1.0.2-py36_1 ...\n",
            "installing: jupyter_client-5.2.3-py36_0 ...\n",
            "installing: nbformat-4.4.0-py36h31c9010_0 ...\n",
            "installing: pip-10.0.1-py36_0 ...\n",
            "installing: prompt_toolkit-1.0.15-py36h17d85b1_0 ...\n",
            "installing: pylint-1.8.4-py36_0 ...\n",
            "installing: pyopenssl-18.0.0-py36_0 ...\n",
            "installing: pytest-openfiles-0.3.0-py36_0 ...\n",
            "installing: pytest-remotedata-0.2.1-py36_0 ...\n",
            "installing: flask-cors-3.0.4-py36_0 ...\n",
            "installing: ipython-6.4.0-py36_0 ...\n",
            "installing: nbconvert-5.3.1-py36hb41ffb7_0 ...\n",
            "installing: urllib3-1.22-py36hbe7ace6_0 ...\n",
            "installing: ipykernel-4.8.2-py36_0 ...\n",
            "installing: requests-2.18.4-py36he2e5f8d_1 ...\n",
            "installing: anaconda-client-1.6.14-py36_0 ...\n",
            "installing: jupyter_console-5.2.0-py36he59e554_1 ...\n",
            "installing: notebook-5.5.0-py36_0 ...\n",
            "installing: qtconsole-4.3.1-py36h8f73b5b_0 ...\n",
            "installing: sphinx-1.7.4-py36_0 ...\n",
            "installing: anaconda-navigator-1.8.7-py36_0 ...\n",
            "installing: anaconda-project-0.8.2-py36h44fb852_0 ...\n",
            "installing: jupyterlab_launcher-0.10.5-py36_0 ...\n",
            "installing: numpydoc-0.8.0-py36_0 ...\n",
            "installing: widgetsnbextension-3.2.1-py36_0 ...\n",
            "installing: ipywidgets-7.2.1-py36_0 ...\n",
            "installing: jupyterlab-0.32.1-py36_0 ...\n",
            "installing: spyder-3.2.8-py36_0 ...\n",
            "installing: _ipyw_jlab_nb_ext_conf-0.1.0-py36he11e457_0 ...\n",
            "installing: jupyter-1.0.0-py36_4 ...\n",
            "installing: bokeh-0.12.16-py36_0 ...\n",
            "installing: bottleneck-1.2.1-py36haac1ea0_0 ...\n",
            "installing: conda-4.5.4-py36_0 ...\n",
            "installing: conda-build-3.10.5-py36_0 ...\n",
            "installing: datashape-0.5.4-py36h3ad6b5c_0 ...\n",
            "installing: h5py-2.7.1-py36ha1f6525_2 ...\n",
            "installing: imageio-2.3.0-py36_0 ...\n",
            "installing: matplotlib-2.2.2-py36h0e671d2_1 ...\n",
            "installing: mkl_fft-1.0.1-py36h3010b51_0 ...\n",
            "installing: mkl_random-1.0.1-py36h629b387_0 ...\n",
            "installing: numpy-1.14.3-py36hcd700cb_1 ...\n",
            "installing: numba-0.38.0-py36h637b7d7_0 ...\n",
            "installing: numexpr-2.6.5-py36h7bf3b9c_0 ...\n",
            "installing: pandas-0.23.0-py36h637b7d7_0 ...\n",
            "installing: pytest-arraydiff-0.2-py36_0 ...\n",
            "installing: pytest-doctestplus-0.1.3-py36_0 ...\n",
            "installing: pywavelets-0.5.2-py36he602eb0_0 ...\n",
            "installing: scipy-1.1.0-py36hfc37229_0 ...\n",
            "installing: bkcharts-0.2-py36h735825a_0 ...\n",
            "installing: dask-0.17.5-py36_0 ...\n",
            "installing: patsy-0.5.0-py36_0 ...\n",
            "installing: pytables-3.4.3-py36h02b9ad4_2 ...\n",
            "installing: pytest-astropy-0.3.0-py36_0 ...\n",
            "installing: scikit-learn-0.19.1-py36h7aa7ec6_0 ...\n",
            "installing: astropy-3.0.2-py36h3010b51_1 ...\n",
            "installing: odo-0.5.1-py36h90ed295_0 ...\n",
            "installing: scikit-image-0.13.1-py36h14c3975_1 ...\n",
            "installing: statsmodels-0.9.0-py36h3010b51_0 ...\n",
            "installing: blaze-0.11.3-py36h4e06776_0 ...\n",
            "installing: seaborn-0.8.1-py36hfad7ec4_0 ...\n",
            "installing: anaconda-5.2.0-py36_3 ...\n",
            "installation finished.\n",
            "WARNING:\n",
            "    You currently have a PYTHONPATH environment variable set. This may cause\n",
            "    unexpected behavior when running the Python interpreter in Anaconda3.\n",
            "    For best results, please verify that your PYTHONPATH only points to\n",
            "    directories of packages that are compatible with the Python interpreter\n",
            "    in Anaconda3: /usr/local\n",
            "Solving environment: ...working... failed\n",
            "\n",
            "# >>>>>>>>>>>>>>>>>>>>>> ERROR REPORT <<<<<<<<<<<<<<<<<<<<<<\n",
            "\n",
            "`$ /usr/local/bin/conda install -q -y --prefix /usr/local -c pytorch faiss-cpu`\n",
            "\n",
            "  environment variables:\n",
            "                 CIO_TEST=<not set>\n",
            "COLAB_DEBUG_ADAPTER_MUX_PATH=/usr/local/bin/dap_multiplexer\n",
            "COLAB_LANGUAGE_SERVER_PROXY=<set>\n",
            "               CONDA_ROOT=/usr/local\n",
            "          LD_LIBRARY_PATH=/usr/local/nvidia/lib:/usr/local/nvidia/lib64\n",
            "             LIBRARY_PATH=/usr/local/cuda/lib64/stubs\n",
            "                     PATH=/opt/bin:/usr/local/nvidia/bin:/usr/local/cuda/bin:/usr/local/sbin:/us\n",
            "                          r/local/bin:/usr/sbin:/usr/bin:/sbin:/bin:/tools/node/bin:/tools/googl\n",
            "                          e-cloud-sdk/bin\n",
            "               PYTHONPATH=/env/python\n",
            "           PYTHONWARNINGS=ignore:::pip._internal.cli.base_command\n",
            "       REQUESTS_CA_BUNDLE=<not set>\n",
            "            SSL_CERT_FILE=<not set>\n",
            "               TCLLIBPATH=/usr/share/tcltk/tcllib1.20\n",
            "\n",
            "     active environment : None\n",
            "       user config file : /root/.condarc\n",
            " populated config files : \n",
            "          conda version : 4.5.4\n",
            "    conda-build version : 3.10.5\n",
            "         python version : 3.6.5.final.0\n",
            "       base environment : /usr/local  (writable)\n",
            "           channel URLs : https://conda.anaconda.org/pytorch/linux-64\n",
            "                          https://conda.anaconda.org/pytorch/noarch\n",
            "                          https://repo.anaconda.com/pkgs/main/linux-64\n",
            "                          https://repo.anaconda.com/pkgs/main/noarch\n",
            "                          https://repo.anaconda.com/pkgs/free/linux-64\n",
            "                          https://repo.anaconda.com/pkgs/free/noarch\n",
            "                          https://repo.anaconda.com/pkgs/r/linux-64\n",
            "                          https://repo.anaconda.com/pkgs/r/noarch\n",
            "                          https://repo.anaconda.com/pkgs/pro/linux-64\n",
            "                          https://repo.anaconda.com/pkgs/pro/noarch\n",
            "          package cache : /usr/local/pkgs\n",
            "                          /root/.conda/pkgs\n",
            "       envs directories : /usr/local/envs\n",
            "                          /root/.conda/envs\n",
            "               platform : linux-64\n",
            "             user-agent : conda/4.5.4 requests/2.18.4 CPython/3.6.5 Linux/6.1.85+ ubuntu/22.04 glibc/2.35\n",
            "                UID:GID : 0:0\n",
            "             netrc file : None\n",
            "           offline mode : False\n",
            "\n",
            "\n",
            "V V V V V V V V V V V V V V V V V V V V V V V V V V V V V V V\n",
            "\n",
            "CondaHTTPError: HTTP 000 CONNECTION FAILED for url <https://conda.anaconda.org/pytorch/noarch/repodata.json>\n",
            "Elapsed: -\n",
            "\n",
            "An HTTP error occurred when trying to retrieve this URL.\n",
            "HTTP errors are often intermittent, and a simple retry will get you on your way.\n",
            "SSLError(MaxRetryError('HTTPSConnectionPool(host=\\'conda.anaconda.org\\', port=443): Max retries exceeded with url: /pytorch/noarch/repodata.json (Caused by SSLError(SSLError(\"bad handshake: Error([(\\'SSL routines\\', \\'ssl3_get_server_certificate\\', \\'certificate verify failed\\')],)\",),))',),)\n",
            "\n",
            "A reportable application error has occurred. Conda has prepared the above report.\n",
            "Upload successful.\n"
          ]
        }
      ],
      "source": [
        "# conda\n",
        "!wget -c https://repo.continuum.io/archive/Anaconda3-5.2.0-Linux-x86_64.sh\n",
        "!chmod +x Anaconda3-5.2.0-Linux-x86_64.sh\n",
        "!bash ./Anaconda3-5.2.0-Linux-x86_64.sh -b -f -p /usr/local\n",
        "# can change to another channel or package\n",
        "!conda install -q -y --prefix /usr/local -c pytorch faiss-cpu\n",
        "import sys\n",
        "sys.path.append('/usr/local/lib/python3.6/site-packages/')\n"
      ]
    },
    {
      "cell_type": "code",
      "execution_count": null,
      "metadata": {
        "colab": {
          "base_uri": "https://localhost:8080/"
        },
        "id": "3or4LUcEifZ2",
        "outputId": "4e137301-2b3e-449a-e415-4f58062d9027"
      },
      "outputs": [
        {
          "name": "stdout",
          "output_type": "stream",
          "text": [
            "Collecting faiss\n",
            "\u001b[?25l  Downloading https://files.pythonhosted.org/packages/bd/1c/4ae6cb87cf0c09c25561ea48db11e25713b25c580909902a92c090b377c0/faiss-1.5.3-cp36-cp36m-manylinux1_x86_64.whl (4.7MB)\n",
            "\u001b[K    100% |████████████████████████████████| 4.7MB 4.8MB/s \n",
            "\u001b[?25hRequirement already satisfied: numpy in /usr/local/lib/python3.6/site-packages (from faiss) (1.14.3)\n",
            "\u001b[31mdistributed 1.21.8 requires msgpack, which is not installed.\u001b[0m\n",
            "Installing collected packages: faiss\n",
            "Successfully installed faiss-1.5.3\n"
          ]
        }
      ],
      "source": [
        "! pip install faiss"
      ]
    },
    {
      "cell_type": "markdown",
      "metadata": {
        "id": "HgGFV6Y1mCwL"
      },
      "source": [
        "# Existing Magics"
      ]
    },
    {
      "cell_type": "code",
      "execution_count": null,
      "metadata": {
        "colab": {
          "base_uri": "https://localhost:8080/",
          "height": 74
        },
        "id": "0fzQnkcukqbo",
        "outputId": "11623f96-bd75-4b40-db93-76f3aa42e900"
      },
      "outputs": [
        {
          "data": {
            "text/html": [
              "<h1>Heading 1</h1>\n"
            ],
            "text/plain": [
              "<IPython.core.display.HTML object>"
            ]
          },
          "metadata": {},
          "output_type": "display_data"
        }
      ],
      "source": [
        "%%html\n",
        "<h1>Heading 1</h1>"
      ]
    },
    {
      "cell_type": "code",
      "execution_count": null,
      "metadata": {
        "colab": {
          "base_uri": "https://localhost:8080/"
        },
        "id": "MEP0ZXXUlO32",
        "outputId": "e4f3b552-5e6f-4af9-a7bd-0acac1c6c198"
      },
      "outputs": [
        {
          "name": "stdout",
          "output_type": "stream",
          "text": [
            "No Bottleneck unit testing available.\n"
          ]
        },
        {
          "name": "stderr",
          "output_type": "stream",
          "text": [
            "/usr/local/lib/python3.10/dist-packages/pandas/core/arrays/masked.py:62: UserWarning: Pandas requires version '1.3.4' or newer of 'bottleneck' (version '1.2.1' currently installed).\n",
            "  from pandas.core import (\n"
          ]
        }
      ],
      "source": [
        "%load_ext rpy2.ipython"
      ]
    },
    {
      "cell_type": "code",
      "execution_count": null,
      "metadata": {
        "colab": {
          "base_uri": "https://localhost:8080/"
        },
        "id": "gsaNmk5VmRXx",
        "outputId": "b7f30726-3843-4ecd-a10c-ef175d461c33"
      },
      "outputs": [
        {
          "name": "stdout",
          "output_type": "stream",
          "text": [
            "[1] 42\n"
          ]
        }
      ],
      "source": [
        "%%R\n",
        "x <- 42\n",
        "print(x)"
      ]
    },
    {
      "cell_type": "markdown",
      "metadata": {
        "id": "BEUTi5l-mhOY"
      },
      "source": [
        "# New Magics"
      ]
    },
    {
      "cell_type": "code",
      "execution_count": null,
      "metadata": {
        "id": "Xhn_1sIRmoUv"
      },
      "outputs": [],
      "source": [
        "import re\n",
        "from IPython.display import HTML\n",
        "from IPython.core.magic import register_cell_magic"
      ]
    },
    {
      "cell_type": "code",
      "execution_count": null,
      "metadata": {
        "id": "m--3tiyKms4G"
      },
      "outputs": [],
      "source": [
        "def var_sub(m):\n",
        "  v = globals()[m[1]]\n",
        "  if type(v) != str:\n",
        "    v = repr(v)\n",
        "  return v"
      ]
    },
    {
      "cell_type": "code",
      "execution_count": null,
      "metadata": {
        "id": "MUWAdxoCmzDL"
      },
      "outputs": [],
      "source": [
        "@register_cell_magic\n",
        "def javascript(line=\"\", cell=\"\"):\n",
        "  # var sub\n",
        "  cell = re.sub(r'\\{\\{(\\w+)+}}', var_sub, cell)\n",
        "\n",
        "  m = re.match(r'\\w+', line)\n",
        "  if m:                       # assign to a variable\n",
        "    globals()[m[0]] = cell\n",
        "  else:                       # normal display\n",
        "    display(HTML(\"\"\"\n",
        "<div id=\"drawing\"></div>\n",
        "<script src=\"https://cdnjs.cloudflare.com/ajax/libs/svg.js/2.6.5/svg.js\"></script>\n",
        "<script>\n",
        "var draw = SVG('drawing').size('100%', 100)\n",
        "var y_cursor_pos = 0\n",
        "function print(x){\n",
        "  draw.text(x.toString()).move(400, y_cursor_pos)\n",
        "  y_cursor_pos += 20\n",
        "}\n",
        "\n",
        "text = s=> draw.text(s).font('anchor', 'middle')\n",
        "line = (x1,y1, x2,y2)=> draw.line(x1,y1, x2, y2).stroke({width: 1})\n",
        "max = Math.max\n",
        "\"\"\" + cell))"
      ]
    },
    {
      "cell_type": "code",
      "execution_count": null,
      "metadata": {
        "colab": {
          "base_uri": "https://localhost:8080/",
          "height": 121
        },
        "id": "RsSwuG3wm33f",
        "outputId": "a07bfdc3-7c34-4d6d-ebc4-536c18b82ffc"
      },
      "outputs": [
        {
          "data": {
            "text/html": [
              "\n",
              "<div id=\"drawing\"></div>\n",
              "<script src=\"https://cdnjs.cloudflare.com/ajax/libs/svg.js/2.6.5/svg.js\"></script>\n",
              "<script>\n",
              "var draw = SVG('drawing').size('100%', 100)\n",
              "var y_cursor_pos = 0\n",
              "function print(x){\n",
              "  draw.text(x.toString()).move(400, y_cursor_pos)\n",
              "  y_cursor_pos += 20\n",
              "}\n",
              "\n",
              "text = s=> draw.text(s).font('anchor', 'middle')\n",
              "line = (x1,y1, x2,y2)=> draw.line(x1,y1, x2, y2).stroke({width: 1})\n",
              "max = Math.max\n",
              "\n",
              "draw.rect(100, 100)\n"
            ],
            "text/plain": [
              "<IPython.core.display.HTML object>"
            ]
          },
          "metadata": {},
          "output_type": "display_data"
        }
      ],
      "source": [
        "%%javascript\n",
        "\n",
        "draw.rect(100, 100)"
      ]
    },
    {
      "cell_type": "markdown",
      "metadata": {
        "id": "4oVqS7YHm5tF"
      },
      "source": [
        "# Elasticsearch magic"
      ]
    },
    {
      "cell_type": "code",
      "execution_count": null,
      "metadata": {
        "id": "vmKOhUwcm-RD"
      },
      "outputs": [],
      "source": [
        "# install\n",
        "!wget https://artifacts.elastic.co/downloads/elasticsearch/elasticsearch-7.0.0-linux-x86_64.tar.gz -q\n",
        "!tar -xzf elasticsearch-7.0.0-linux-x86_64.tar.gz\n",
        "!chown -R daemon:daemon elasticsearch-7.0.0"
      ]
    },
    {
      "cell_type": "code",
      "execution_count": null,
      "metadata": {
        "id": "_X9SjnGAnOk-"
      },
      "outputs": [],
      "source": [
        "# start server\n",
        "import os\n",
        "from subprocess import Popen, PIPE, STDOUT\n",
        "es_server = Popen(['elasticsearch-7.0.0/bin/elasticsearch'],\n",
        "                  stdout=PIPE, stderr=STDOUT,\n",
        "                  preexec_fn=lambda: os.setuid(1)  # as daemon\n",
        "                 )"
      ]
    },
    {
      "cell_type": "code",
      "execution_count": null,
      "metadata": {
        "colab": {
          "base_uri": "https://localhost:8080/"
        },
        "id": "R_lZNftJnWDe",
        "outputId": "7b055a49-8787-41ed-ce75-cf8e7de83daa"
      },
      "outputs": [
        {
          "name": "stdout",
          "output_type": "stream",
          "text": [
            "{\n",
            "  \"name\" : \"a2d749e789fa\",\n",
            "  \"cluster_name\" : \"elasticsearch\",\n",
            "  \"cluster_uuid\" : \"6VA55d4wRRGTVNrmQ65iwg\",\n",
            "  \"version\" : {\n",
            "    \"number\" : \"7.0.0\",\n",
            "    \"build_flavor\" : \"default\",\n",
            "    \"build_type\" : \"tar\",\n",
            "    \"build_hash\" : \"b7e28a7\",\n",
            "    \"build_date\" : \"2019-04-05T22:55:32.697037Z\",\n",
            "    \"build_snapshot\" : false,\n",
            "    \"lucene_version\" : \"8.0.0\",\n",
            "    \"minimum_wire_compatibility_version\" : \"6.7.0\",\n",
            "    \"minimum_index_compatibility_version\" : \"6.0.0-beta1\"\n",
            "  },\n",
            "  \"tagline\" : \"You Know, for Search\"\n",
            "}\n"
          ]
        }
      ],
      "source": [
        "# test\n",
        "!curl -X GET \"localhost:9200/\""
      ]
    },
    {
      "cell_type": "code",
      "execution_count": null,
      "metadata": {
        "id": "AzhqogemndeO"
      },
      "outputs": [],
      "source": [
        "from requests import models, Session, Request\n",
        "from urllib.parse import urljoin\n",
        "from IPython.core.magic import register_cell_magic\n",
        "import re\n",
        "\n",
        "# to display json response\n",
        "def render(r):\n",
        "  text = r.text\n",
        "  if text[0] in \"[{\":  # really json\n",
        "    return \"\"\"\n",
        "    <script src=\"https://rawgit.com/caldwell/renderjson/master/renderjson.js\"></script>\n",
        "    <script>\n",
        "    renderjson.set_show_to_level(1)\n",
        "    document.body.appendChild(renderjson(%s))\n",
        "    new ResizeObserver(google.colab.output.resizeIframeToContent).observe(document.body)\n",
        "    </script>\n",
        "    \"\"\" % text\n",
        "  else:    # other status text\n",
        "    return \"<pre>%s</pre>\" % text\n",
        "models.Response._repr_html_ = render"
      ]
    },
    {
      "cell_type": "code",
      "execution_count": null,
      "metadata": {
        "id": "mnLFz-ZcnkBq"
      },
      "outputs": [],
      "source": [
        "# %%es magic\n",
        "@register_cell_magic\n",
        "def es(line=None, cell=\"\"):\n",
        "  cell = re.sub(r'(?m)^\\s*#.*\\n?','', cell) # remove comment\n",
        "  line1 = (cell + '\\n').find('\\n')\n",
        "  method, path = cell[:line1].split(None, 1)\n",
        "  body = cell[line1:].strip()\n",
        "  args = {}\n",
        "  if body:\n",
        "    args['data'] = (body + '\\n').encode()  # in case _bulk\n",
        "    args['headers'] = {'Content-Type': 'application/json'}\n",
        "\n",
        "  rsp = Session().send(\n",
        "          Request(method, urljoin('http://localhost:9200', path), **args)\n",
        "            .prepare())\n",
        "  return rsp"
      ]
    },
    {
      "cell_type": "code",
      "execution_count": null,
      "metadata": {
        "colab": {
          "base_uri": "https://localhost:8080/",
          "height": 139
        },
        "id": "2s0U8a1Enn5j",
        "outputId": "f30e7a63-93e5-4ba2-f972-bc1932cf08a7"
      },
      "outputs": [
        {
          "data": {
            "text/html": [
              "\n",
              "    <script src=\"https://rawgit.com/caldwell/renderjson/master/renderjson.js\"></script>\n",
              "    <script>\n",
              "    renderjson.set_show_to_level(1)\n",
              "    document.body.appendChild(renderjson({\n",
              "  \"name\" : \"a2d749e789fa\",\n",
              "  \"cluster_name\" : \"elasticsearch\",\n",
              "  \"cluster_uuid\" : \"6VA55d4wRRGTVNrmQ65iwg\",\n",
              "  \"version\" : {\n",
              "    \"number\" : \"7.0.0\",\n",
              "    \"build_flavor\" : \"default\",\n",
              "    \"build_type\" : \"tar\",\n",
              "    \"build_hash\" : \"b7e28a7\",\n",
              "    \"build_date\" : \"2019-04-05T22:55:32.697037Z\",\n",
              "    \"build_snapshot\" : false,\n",
              "    \"lucene_version\" : \"8.0.0\",\n",
              "    \"minimum_wire_compatibility_version\" : \"6.7.0\",\n",
              "    \"minimum_index_compatibility_version\" : \"6.0.0-beta1\"\n",
              "  },\n",
              "  \"tagline\" : \"You Know, for Search\"\n",
              "}\n",
              "))\n",
              "    new ResizeObserver(google.colab.output.resizeIframeToContent).observe(document.body)\n",
              "    </script>\n",
              "    "
            ],
            "text/plain": [
              "<Response [200]>"
            ]
          },
          "execution_count": 38,
          "metadata": {},
          "output_type": "execute_result"
        }
      ],
      "source": [
        "%%es\n",
        "GET /"
      ]
    },
    {
      "cell_type": "code",
      "execution_count": null,
      "metadata": {
        "colab": {
          "base_uri": "https://localhost:8080/",
          "height": 191
        },
        "id": "IcqrX1-Jnsj4",
        "outputId": "6ab32a68-afb4-44db-c4d2-0e6d5ec58a57"
      },
      "outputs": [
        {
          "data": {
            "text/html": [
              "\n",
              "    <script src=\"https://rawgit.com/caldwell/renderjson/master/renderjson.js\"></script>\n",
              "    <script>\n",
              "    renderjson.set_show_to_level(1)\n",
              "    document.body.appendChild(renderjson({\"_index\":\"customer\",\"_type\":\"_doc\",\"_id\":\"1\",\"_version\":1,\"result\":\"created\",\"_shards\":{\"total\":2,\"successful\":1,\"failed\":0},\"_seq_no\":0,\"_primary_term\":1}))\n",
              "    new ResizeObserver(google.colab.output.resizeIframeToContent).observe(document.body)\n",
              "    </script>\n",
              "    "
            ],
            "text/plain": [
              "<Response [201]>"
            ]
          },
          "execution_count": 39,
          "metadata": {},
          "output_type": "execute_result"
        }
      ],
      "source": [
        "%%es\n",
        "PUT /customer/_doc/1\n",
        "{\n",
        "  \"name\": \"John Doe\"\n",
        "}"
      ]
    },
    {
      "cell_type": "code",
      "execution_count": null,
      "metadata": {
        "colab": {
          "base_uri": "https://localhost:8080/",
          "height": 191
        },
        "id": "U2Sb1hSqnxgh",
        "outputId": "1e1e3ef5-072d-41e4-ecd9-f13949ce3638"
      },
      "outputs": [
        {
          "data": {
            "text/html": [
              "\n",
              "    <script src=\"https://rawgit.com/caldwell/renderjson/master/renderjson.js\"></script>\n",
              "    <script>\n",
              "    renderjson.set_show_to_level(1)\n",
              "    document.body.appendChild(renderjson({\"_index\":\"customer\",\"_type\":\"_doc\",\"_id\":\"2\",\"_version\":1,\"result\":\"created\",\"_shards\":{\"total\":2,\"successful\":1,\"failed\":0},\"_seq_no\":1,\"_primary_term\":1}))\n",
              "    new ResizeObserver(google.colab.output.resizeIframeToContent).observe(document.body)\n",
              "    </script>\n",
              "    "
            ],
            "text/plain": [
              "<Response [201]>"
            ]
          },
          "execution_count": 40,
          "metadata": {},
          "output_type": "execute_result"
        }
      ],
      "source": [
        "%%es\n",
        "PUT customer/_doc/2\n",
        "{\n",
        "  \"name\": \"John Smith\"\n",
        "}"
      ]
    },
    {
      "cell_type": "markdown",
      "metadata": {
        "id": "YqJXF77kobPM"
      },
      "source": [
        "# Python calls JS"
      ]
    },
    {
      "cell_type": "code",
      "execution_count": null,
      "metadata": {
        "colab": {
          "base_uri": "https://localhost:8080/",
          "height": 34
        },
        "id": "zYasKavNolAz",
        "outputId": "58cbd7fb-e7f9-4040-c8ba-6990c413df9f"
      },
      "outputs": [
        {
          "data": {
            "text/html": [
              "<script>\n",
              "document.body.append(document.createTextNode(\"Hello\"))\n",
              "</script>\n"
            ],
            "text/plain": [
              "<IPython.core.display.HTML object>"
            ]
          },
          "metadata": {},
          "output_type": "display_data"
        }
      ],
      "source": [
        "%%html\n",
        "<script>\n",
        "document.body.append(document.createTextNode(\"Hello\"))\n",
        "</script>"
      ]
    },
    {
      "cell_type": "code",
      "execution_count": null,
      "metadata": {
        "colab": {
          "base_uri": "https://localhost:8080/",
          "height": 34
        },
        "id": "D0_vJvXmol7A",
        "outputId": "ffdeef83-4b9b-4dbd-b9dc-abfb28b2c3ba"
      },
      "outputs": [
        {
          "data": {
            "application/javascript": [
              "document.body.append(document.createTextNode(\"Hello\"))"
            ],
            "text/plain": [
              "<IPython.core.display.Javascript object>"
            ]
          },
          "execution_count": 42,
          "metadata": {},
          "output_type": "execute_result"
        }
      ],
      "source": [
        "from IPython.display import Javascript\n",
        "Javascript('document.body.append(document.createTextNode(\"Hello\"))')"
      ]
    },
    {
      "cell_type": "code",
      "execution_count": null,
      "metadata": {
        "colab": {
          "base_uri": "https://localhost:8080/",
          "height": 35
        },
        "id": "8eoZYXxOoxcn",
        "outputId": "29cb0b8c-c03d-491a-e832-257f3298ceef"
      },
      "outputs": [
        {
          "data": {
            "text/plain": [
              "2"
            ]
          },
          "execution_count": 43,
          "metadata": {},
          "output_type": "execute_result"
        }
      ],
      "source": [
        "from google.colab.output import eval_js\n",
        "eval_js('1+1')"
      ]
    },
    {
      "cell_type": "markdown",
      "metadata": {
        "id": "srpGtK60pGTf"
      },
      "source": [
        "# JS Calls Python"
      ]
    },
    {
      "cell_type": "markdown",
      "metadata": {
        "id": "_bOfSHgIpMpW"
      },
      "source": [
        "## Toy Example"
      ]
    },
    {
      "cell_type": "code",
      "execution_count": null,
      "metadata": {
        "id": "nc47SXnkpPDh"
      },
      "outputs": [],
      "source": [
        "from IPython.display import JSON\n",
        "import IPython.display as idisplay\n",
        "from google.colab import output\n",
        "\n",
        "def concat(a, b):\n",
        "  return JSON({'result': '%s %s' % (a, b)})\n",
        "\n",
        "output.register_callback('notebook.concat', concat)"
      ]
    },
    {
      "cell_type": "code",
      "execution_count": null,
      "metadata": {
        "colab": {
          "base_uri": "https://localhost:8080/",
          "height": 34
        },
        "id": "Q-ha6HMUpXeh",
        "outputId": "a9925068-3132-47fe-9c99-772ed4d49bce"
      },
      "outputs": [
        {
          "data": {
            "application/javascript": [
              "\n",
              "(async function() {\n",
              "\n",
              "  const result = await google.colab.kernel.invokeFunction(\n",
              "    'notebook.concat',  \n",
              "    ['hello', 'world!'],\n",
              "    {});\n",
              "    \n",
              "  const text = result.data['application/json'].result;\n",
              "  \n",
              "  document.querySelector(\"#output-area\").appendChild(document.createTextNode(text))\n",
              "  \n",
              "})();\n"
            ],
            "text/plain": [
              "<IPython.core.display.Javascript object>"
            ]
          },
          "execution_count": 45,
          "metadata": {},
          "output_type": "execute_result"
        }
      ],
      "source": [
        "idisplay.Javascript('''\n",
        "(async function() {\n",
        "\n",
        "  const result = await google.colab.kernel.invokeFunction(\n",
        "    'notebook.concat',\n",
        "    ['hello', 'world!'],\n",
        "    {});\n",
        "\n",
        "  const text = result.data['application/json'].result;\n",
        "\n",
        "  document.querySelector(\"#output-area\").appendChild(document.createTextNode(text))\n",
        "\n",
        "})();\n",
        "''')"
      ]
    },
    {
      "cell_type": "markdown",
      "metadata": {
        "id": "hP4-ZSkEpeHv"
      },
      "source": [
        "## Take a Photo"
      ]
    },
    {
      "cell_type": "code",
      "execution_count": null,
      "metadata": {
        "id": "3Qb5eJtEpgnK"
      },
      "outputs": [],
      "source": [
        "from IPython.display import HTML, Image\n",
        "from google.colab.output import eval_js\n",
        "from base64 import b64decode"
      ]
    },
    {
      "cell_type": "code",
      "execution_count": null,
      "metadata": {
        "id": "3LfL98zFphm1"
      },
      "outputs": [],
      "source": [
        "VIDEO_HTML = \"\"\"\n",
        "<video autoplay\n",
        " width=800 height=600></video>\n",
        "<script>\n",
        "var video = document.querySelector('video')\n",
        "navigator.mediaDevices.getUserMedia({ video: true })\n",
        "  .then(stream=> video.srcObject = stream)\n",
        "\n",
        "var data = new Promise(resolve=>{\n",
        "  video.onclick = ()=>{\n",
        "    var canvas = document.createElement('canvas')\n",
        "    var [w,h] = [video.offsetWidth, video.offsetHeight]\n",
        "    canvas.width = w\n",
        "    canvas.height = h\n",
        "    canvas.getContext('2d')\n",
        "          .drawImage(video, 0, 0, w, h)\n",
        "    video.srcObject.getVideoTracks()[0].stop()\n",
        "    video.replaceWith(canvas)\n",
        "    resolve(canvas.toDataURL('image/jpeg', %f))\n",
        "  }\n",
        "})\n",
        "</script>\n",
        "\"\"\""
      ]
    },
    {
      "cell_type": "code",
      "execution_count": null,
      "metadata": {
        "id": "t0DT8aEOpqt9"
      },
      "outputs": [],
      "source": [
        "def take_photo(filename='photo.jpg', quality=0.8):\n",
        "  display(HTML(VIDEO_HTML % quality))\n",
        "  data = eval_js(\"data\")\n",
        "  binary = b64decode(data.split(',')[1])\n",
        "  with open(filename, 'wb') as f:\n",
        "    f.write(binary)\n",
        "  return len(binary)"
      ]
    },
    {
      "cell_type": "code",
      "source": [
        "take_photo()"
      ],
      "metadata": {
        "colab": {
          "base_uri": "https://localhost:8080/",
          "height": 639
        },
        "id": "p32FyQ0CuFV9",
        "outputId": "03f86bee-5f79-4967-e001-20954b2a5100"
      },
      "execution_count": null,
      "outputs": [
        {
          "output_type": "display_data",
          "data": {
            "text/plain": [
              "<IPython.core.display.HTML object>"
            ],
            "text/html": [
              "\n",
              "<video autoplay\n",
              " width=800 height=600></video>\n",
              "<script>\n",
              "var video = document.querySelector('video')\n",
              "navigator.mediaDevices.getUserMedia({ video: true })\n",
              "  .then(stream=> video.srcObject = stream)\n",
              "\n",
              "var data = new Promise(resolve=>{\n",
              "  video.onclick = ()=>{\n",
              "    var canvas = document.createElement('canvas')\n",
              "    var [w,h] = [video.offsetWidth, video.offsetHeight]\n",
              "    canvas.width = w\n",
              "    canvas.height = h\n",
              "    canvas.getContext('2d')\n",
              "          .drawImage(video, 0, 0, w, h)\n",
              "    video.srcObject.getVideoTracks()[0].stop()\n",
              "    video.replaceWith(canvas)\n",
              "    resolve(canvas.toDataURL('image/jpeg', 0.800000))\n",
              "  }\n",
              "})\n",
              "</script>\n"
            ]
          },
          "metadata": {}
        },
        {
          "output_type": "execute_result",
          "data": {
            "text/plain": [
              "32536"
            ]
          },
          "metadata": {},
          "execution_count": 5
        }
      ]
    }
  ],
  "metadata": {
    "colab": {
      "provenance": []
    },
    "kernelspec": {
      "display_name": "Python 3",
      "name": "python3"
    },
    "language_info": {
      "name": "python"
    }
  },
  "nbformat": 4,
  "nbformat_minor": 0
}